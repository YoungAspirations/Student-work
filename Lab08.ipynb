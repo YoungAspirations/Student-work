{
 "cells": [
  {
   "cell_type": "markdown",
   "metadata": {},
   "source": [
    "# Lab 8: matrix equations and linear least-squares fitting"
   ]
  },
  {
   "cell_type": "markdown",
   "metadata": {},
   "source": [
    "## Matrix operations\n",
    "\n",
    "We begin today’s lab with a quick investigation of how to use numpy `array`s to represent matrices. We can use the `array` *constructor* function to make a matrix:"
   ]
  },
  {
   "cell_type": "code",
   "execution_count": 1,
   "metadata": {},
   "outputs": [],
   "source": [
    "import numpy as np"
   ]
  },
  {
   "cell_type": "code",
   "execution_count": 2,
   "metadata": {},
   "outputs": [
    {
     "name": "stdout",
     "output_type": "stream",
     "text": [
      "[[1 2 3]\n",
      " [4 5 6]\n",
      " [7 8 9]]\n",
      "[[2 0 0]\n",
      " [0 1 0]\n",
      " [0 0 1]]\n"
     ]
    }
   ],
   "source": [
    "A = np.array([[1,2,3],[4,5,6],[7,8,9]])\n",
    "B = np.array([[2,0,0],[0,1,0],[0,0,1]])\n",
    "print(A)\n",
    "print(B)"
   ]
  },
  {
   "cell_type": "markdown",
   "metadata": {},
   "source": [
    "**Array Shape**\n",
    "\n",
    "We can examine the shape attribute of the numpy array using the following:"
   ]
  },
  {
   "cell_type": "code",
   "execution_count": 3,
   "metadata": {},
   "outputs": [
    {
     "data": {
      "text/plain": [
       "(3, 3)"
      ]
     },
     "execution_count": 3,
     "metadata": {},
     "output_type": "execute_result"
    }
   ],
   "source": [
    "A.shape"
   ]
  },
  {
   "cell_type": "markdown",
   "metadata": {},
   "source": [
    "**Array Referencing**\n",
    "\n",
    "Similarly we can reference individual value in arrays using element indices. These indices must be integers.\n",
    "\n",
    "These indices generally start with 0.\n",
    "\n",
    "So the 3x3 matrix A has indicies that run from 0->2 in both dimensions."
   ]
  },
  {
   "cell_type": "code",
   "execution_count": 4,
   "metadata": {},
   "outputs": [
    {
     "data": {
      "text/plain": [
       "6"
      ]
     },
     "execution_count": 4,
     "metadata": {},
     "output_type": "execute_result"
    }
   ],
   "source": [
    "A[1,2]"
   ]
  },
  {
   "cell_type": "code",
   "execution_count": 5,
   "metadata": {},
   "outputs": [
    {
     "data": {
      "text/plain": [
       "8"
      ]
     },
     "execution_count": 5,
     "metadata": {},
     "output_type": "execute_result"
    }
   ],
   "source": [
    "A[2,1]"
   ]
  },
  {
   "cell_type": "markdown",
   "metadata": {},
   "source": [
    "Can you explain how this referencing works?\n",
    "\n",
    "**Assignments**\n",
    "\n",
    "You can also use references to change the value of elements in an array/matrix."
   ]
  },
  {
   "cell_type": "code",
   "execution_count": 6,
   "metadata": {},
   "outputs": [
    {
     "name": "stdout",
     "output_type": "stream",
     "text": [
      "[[1 2 3]\n",
      " [4 5 6]\n",
      " [7 8 9]]\n",
      "[[ 1  2  3]\n",
      " [ 4  5 -1]\n",
      " [ 7  8  9]]\n"
     ]
    }
   ],
   "source": [
    "print(A)\n",
    "A[1,2] = -1.0\n",
    "print(A)"
   ]
  },
  {
   "cell_type": "markdown",
   "metadata": {},
   "source": [
    "**Numpy Array Creation**\n",
    "\n",
    "There are some convenient ways to create numpy arrays"
   ]
  },
  {
   "cell_type": "code",
   "execution_count": 7,
   "metadata": {},
   "outputs": [
    {
     "data": {
      "text/plain": [
       "array([[0., 0., 0.],\n",
       "       [0., 0., 0.]])"
      ]
     },
     "execution_count": 7,
     "metadata": {},
     "output_type": "execute_result"
    }
   ],
   "source": [
    "np.zeros([2,3])"
   ]
  },
  {
   "cell_type": "code",
   "execution_count": 8,
   "metadata": {},
   "outputs": [
    {
     "data": {
      "text/plain": [
       "array([[1., 1.],\n",
       "       [1., 1.],\n",
       "       [1., 1.],\n",
       "       [1., 1.]])"
      ]
     },
     "execution_count": 8,
     "metadata": {},
     "output_type": "execute_result"
    }
   ],
   "source": [
    "np.ones([4,2])"
   ]
  },
  {
   "cell_type": "markdown",
   "metadata": {},
   "source": [
    "**Array Multiplication**\n",
    "\n",
    "It is tempting to multiply the matrices by using `*`, but if we try:"
   ]
  },
  {
   "cell_type": "code",
   "execution_count": 9,
   "metadata": {},
   "outputs": [
    {
     "name": "stdout",
     "output_type": "stream",
     "text": [
      "[[2 0 0]\n",
      " [0 5 0]\n",
      " [0 0 9]]\n"
     ]
    }
   ],
   "source": [
    "print(A*B)"
   ]
  },
  {
   "cell_type": "markdown",
   "metadata": {},
   "source": [
    "**Can you explain what has happened?** \n",
    "\n",
    "The correct way is to use the `dot` function, or to use the shorthand `@`:"
   ]
  },
  {
   "cell_type": "code",
   "execution_count": 10,
   "metadata": {},
   "outputs": [
    {
     "name": "stdout",
     "output_type": "stream",
     "text": [
      "[[ 2  2  3]\n",
      " [ 8  5 -1]\n",
      " [14  8  9]]\n"
     ]
    }
   ],
   "source": [
    "print(A@B)"
   ]
  },
  {
   "cell_type": "code",
   "execution_count": 11,
   "metadata": {},
   "outputs": [
    {
     "name": "stdout",
     "output_type": "stream",
     "text": [
      "[[ 2  2  3]\n",
      " [ 8  5 -1]\n",
      " [14  8  9]]\n"
     ]
    }
   ],
   "source": [
    "print(np.dot(A,B))"
   ]
  },
  {
   "cell_type": "markdown",
   "metadata": {},
   "source": [
    "Numpy is clever enough to interpret a one-dimensional array as either a row or a column matrix depending on the context:"
   ]
  },
  {
   "cell_type": "code",
   "execution_count": 12,
   "metadata": {},
   "outputs": [
    {
     "name": "stdout",
     "output_type": "stream",
     "text": [
      "[1 4 7]\n",
      "[1 2 3]\n"
     ]
    }
   ],
   "source": [
    "v = np.array([1,0,0])\n",
    "print(A@v)\n",
    "print(v@A)"
   ]
  },
  {
   "cell_type": "markdown",
   "metadata": {},
   "source": [
    "Many useful matrix manipulation tools are in the `linalg` namespace. Among these, we can find the inverse of a matrix with `inv`:"
   ]
  },
  {
   "cell_type": "code",
   "execution_count": 13,
   "metadata": {},
   "outputs": [
    {
     "data": {
      "text/plain": [
       "array([[0.5, 0. , 0. ],\n",
       "       [0. , 1. , 0. ],\n",
       "       [0. , 0. , 1. ]])"
      ]
     },
     "execution_count": 13,
     "metadata": {},
     "output_type": "execute_result"
    }
   ],
   "source": [
    "np.linalg.inv(B)"
   ]
  },
  {
   "cell_type": "markdown",
   "metadata": {},
   "source": [
    "(Note as always that we can `import` functions directly into the main namespace if this is too much typing, by evaluating `from numpy.linalg import inv` or whatever.)"
   ]
  },
  {
   "cell_type": "markdown",
   "metadata": {},
   "source": [
    "Let’s put this to use by solving a matrix equation. Specifically, let’s solve the simultaneous equations\n",
    "$$\\begin{align*}\n",
    "2x + 3y &= 16 \\\\\n",
    "7x - 2y &= 31 \\\\\n",
    "\\end{align*}\n",
    "$$\n",
    "or, equivalently,\n",
    "$$\n",
    "\\begin{pmatrix}2 & 3 \\\\ 7 & -2\\end{pmatrix}\n",
    "\\begin{pmatrix}x \\\\y \\end{pmatrix} =\n",
    "\\begin{pmatrix}16 \\\\ 31\\end{pmatrix}.\n",
    "$$\n",
    "\n",
    "The obvious way is to use the matrix inverse:\n",
    "$$\n",
    "\\begin{pmatrix}x \\\\y \\end{pmatrix} =\n",
    "\\begin{pmatrix}2 & 3 \\\\ 7 & -2\\end{pmatrix}^{-1}\n",
    "\\begin{pmatrix}16 \\\\ 31\\end{pmatrix}.\n",
    "$$\n",
    "**Use the matrix commands we’ve just learned to evaluate the RHS of this equation.**"
   ]
  },
  {
   "cell_type": "code",
   "execution_count": 14,
   "metadata": {},
   "outputs": [
    {
     "name": "stdout",
     "output_type": "stream",
     "text": [
      "[5.0, 2.0000000000000004]\n"
     ]
    }
   ],
   "source": [
    "from numpy.linalg import inv\n",
    "A = np.array([[2,3],[7,-2]])\n",
    "B = np.array([[16],[31]])\n",
    "[[x],[y]] = np.linalg.inv(A)@B\n",
    "print([x,y])"
   ]
  },
  {
   "cell_type": "markdown",
   "metadata": {},
   "source": [
    "Another option is to use the `linalg.solve` function, which exists specifically to solve matrix equations of the form $\\mathbf{Ax} = \\mathbf{b}$. It takes two arguments, the matrix $\\mathbf{A}$ and the vector $\\mathbf{b}$. **Check that you get the same answer using this method:**"
   ]
  },
  {
   "cell_type": "code",
   "execution_count": 15,
   "metadata": {},
   "outputs": [
    {
     "data": {
      "text/plain": [
       "array([[5.],\n",
       "       [2.]])"
      ]
     },
     "execution_count": 15,
     "metadata": {},
     "output_type": "execute_result"
    }
   ],
   "source": [
    "# Define suitable A and b here\n",
    "M = np.array([[2,3],[7,-2]])\n",
    "v = [[16],[31]]\n",
    "np.linalg.solve(M, v)"
   ]
  },
  {
   "cell_type": "markdown",
   "metadata": {},
   "source": [
    "Let’s compare the performance of these two commands on larger matrices. To generate a big matrix easily, we use the `rand` function, which lives in the `random` namespace in `numpy`. Calling `np.random.rand(20)` will return an `array` of 20 random numbers between 0 and 1, and similarly `np.random.rand(100,100)` will return a $100\\times 100$ `array`.\n",
    "\n",
    "Use the `%timeit` “magic” command to **compare the speeds of these two methods for matrices of suitable sizes**: you should be able to get up to at least $1000\\times 1000$.\n",
    "\n",
    "(*Hint*: The easiest way to use this is just to put `%timeit` before the command you want to time.)\n",
    "\n",
    "**Extension**: A more sophisticated method is to write something like\n",
    "\n",
    "    mytime = %timeit -o some_command()\n",
    "\n",
    "which will store a range of information about the timing in the variable `mytime`. The time taken for each of several runs will be stored as `mytime.all_runs`. Use this information to **calculate the average time taken, and plot this against matrix size on a log-log graph.**"
   ]
  },
  {
   "cell_type": "code",
   "execution_count": 16,
   "metadata": {},
   "outputs": [
    {
     "name": "stdout",
     "output_type": "stream",
     "text": [
      "1.11 µs ± 16.7 ns per loop (mean ± std. dev. of 7 runs, 1000000 loops each)\n",
      "83.7 µs ± 451 ns per loop (mean ± std. dev. of 7 runs, 10000 loops each)\n",
      "11.8 ms ± 82.1 µs per loop (mean ± std. dev. of 7 runs, 100 loops each)\n",
      "1.21 s ± 12.4 ms per loop (mean ± std. dev. of 7 runs, 1 loop each)\n"
     ]
    },
    {
     "data": {
      "text/plain": [
       "[1.2321256999999832,\n",
       " 1.1921385000000555,\n",
       " 1.213897799999927,\n",
       " 1.1983571000000666,\n",
       " 1.2199479000000792,\n",
       " 1.2057053000000906,\n",
       " 1.2071311999999352]"
      ]
     },
     "execution_count": 16,
     "metadata": {},
     "output_type": "execute_result"
    }
   ],
   "source": [
    "mytime = %timeit -o np.random.rand(20)\n",
    "mytime = %timeit -o np.random.rand(100,100)\n",
    "mytime = %timeit -o np.random.rand(1000,1000)\n",
    "mytime = %timeit -o np.random.rand(10000,10000)\n",
    "mytime.all_runs"
   ]
  },
  {
   "cell_type": "markdown",
   "metadata": {},
   "source": [
    "▶ **CHECKPOINT 1**"
   ]
  },
  {
   "cell_type": "markdown",
   "metadata": {},
   "source": [
    "## Linear least-squares fitting to polynomials\n",
    "\n",
    "First, we need some data to fit. The code below defines some example data; let's start by **plotting it**."
   ]
  },
  {
   "cell_type": "code",
   "execution_count": 17,
   "metadata": {},
   "outputs": [],
   "source": [
    "x = np.array([  0.        ,   0.52631579,   1.05263158,   1.57894737,\n",
    "                2.10526316,   2.63157895,   3.15789474,   3.68421053,\n",
    "                4.21052632,   4.73684211,   5.26315789,   5.78947368,\n",
    "                6.31578947,   6.84210526,   7.36842105,   7.89473684,\n",
    "                8.42105263,   8.94736842,   9.47368421,  10.        ])\n",
    "y = np.array([ -23.65721091,  129.96285988,  316.40610918,  435.59305751,\n",
    "               554.44335211,  614.02561442,  698.64885428,  792.92150483,\n",
    "               857.4523591 ,  886.46905968,  901.03562214,  873.93486904,\n",
    "               829.10300783,  784.39562338,  725.48999232,  609.56149829,\n",
    "               493.30269619,  360.81172505,  203.03897181,   -5.83555244])"
   ]
  },
  {
   "cell_type": "code",
   "execution_count": 18,
   "metadata": {},
   "outputs": [
    {
     "data": {
      "text/plain": [
       "1.491120650270532e+20"
      ]
     },
     "execution_count": 18,
     "metadata": {},
     "output_type": "execute_result"
    }
   ],
   "source": [
    "from pylab import plot, xlabel, ylabel, figure\n",
    "xlabel('X values')\n",
    "ylabel('Y values')\n",
    "plot(x,y)\n",
    "figure()\n",
    "sum(x**2e1)"
   ]
  },
  {
   "cell_type": "markdown",
   "metadata": {},
   "source": [
    "We saw in class that the best-fitting polynomial of order $k$ to a given data set has coefficients $(a_0, a_1, \\dots, a_k)$ that satisfy the matrix equation\n",
    "$$\n",
    "\\begin{pmatrix}\n",
    "N & \\sum_i x_i & \\sum_i x_i^2 & \\dots & \\sum_i x_i^k \\\\\n",
    "\\sum_i x_i & \\sum_i x_i^2 & \\sum_i x_i^3 & \\dots & \\sum_i x_i^{k+1} \\\\\n",
    "\\vdots & \\vdots & \\vdots & \\ddots & \\vdots \\\\\n",
    "\\sum_i x_i^k & \\sum_i x_i^{k+1} & \\sum_i x_i^{k+2} & \\dots & \\sum_i x_i^{2k} \\\\\n",
    "\\end{pmatrix}\n",
    "\\begin{pmatrix} a_0 \\\\ a_1 \\\\ \\vdots \\\\ a_k\\end{pmatrix}\n",
    "=\n",
    "\\begin{pmatrix} \\sum_i y_i \\\\ \\sum_i x_iy_i \\\\ \\vdots \\\\ \\sum_i x_i^k y_i\\end{pmatrix}.\n",
    "$$\n",
    "\n",
    "**Write functions `coefficient_matrix(x, k)` and `constant_matrix(x, y, k)` to calculate, respectively, the square matrix on the LHS and the vector on the RHS.** Here `x` and `y` are 1D numpy `array`s of data, and as in the equation above `k` is the order of polynomial to fit to.\n",
    "\n",
    "*Hint:* We can use the fact that mathematical operations on `array`s are evaluated elementwise to our advantage. For instance, $\\sum_i x_i^2 y_i$ can be written in Python as `sum(x**2 * y)` – can you see why?"
   ]
  },
  {
   "cell_type": "code",
   "execution_count": 19,
   "metadata": {},
   "outputs": [],
   "source": [
    "def coefficient_matrix(x, k):\n",
    "    \"\"\"Documentation string goes here\"\"\"\n",
    "    c = np.zeros([k+1,k+1])\n",
    "    for o in range(k + 1):\n",
    "        for i in range(k + 1):\n",
    "            c[o,i] = sum(x**(i+o))\n",
    "    return c\n",
    "\n",
    "def constant_matrix(x, y, k):\n",
    "    \"\"\"Documentation string goes here\"\"\"\n",
    "    d = []\n",
    "    for i in range(k+1):\n",
    "        summation = sum((x**i) *y)\n",
    "        d.append([summation])\n",
    "    d = np.array(d)\n",
    "    return d"
   ]
  },
  {
   "cell_type": "code",
   "execution_count": 29,
   "metadata": {},
   "outputs": [
    {
     "name": "stdout",
     "output_type": "stream",
     "text": [
      "[[20.]]\n",
      "[[1.10371040e+04]\n",
      " [5.66202156e+04]\n",
      " [3.43936825e+05]\n",
      " [2.30943131e+06]\n",
      " [1.65631296e+07]\n",
      " [1.24471937e+08]\n",
      " [9.68577246e+08]\n",
      " [7.74275016e+09]\n",
      " [6.32334892e+10]\n",
      " [5.25457691e+11]\n",
      " [4.42947625e+12]]\n"
     ]
    }
   ],
   "source": [
    "print(coefficient_matrix(x,10))\n",
    "print(constant_matrix(x,y,10))"
   ]
  },
  {
   "cell_type": "markdown",
   "metadata": {},
   "source": [
    "To start with, let’s look for a quadratic solution, $k = 2$. **Use the `solve` function, together with the matrix functions you just defined, to find the coefficients of the best quadratic fit to these data.**"
   ]
  },
  {
   "cell_type": "code",
   "execution_count": 23,
   "metadata": {},
   "outputs": [
    {
     "name": "stdout",
     "output_type": "stream",
     "text": [
      "[[-49.62846989]\n",
      " [364.06490585]\n",
      " [-35.62765588]]\n"
     ]
    }
   ],
   "source": [
    "quadratic_coefficients = np.linalg.solve(coefficient_matrix(x,2), constant_matrix(x,y,2))\n",
    "print(quadratic_coefficients)"
   ]
  },
  {
   "cell_type": "markdown",
   "metadata": {},
   "source": [
    "To make your life a bit easier, I’ve defined a Python function that will evaluate a polynomial with given coefficients. Check that you understand how the function below works. Using it and the coefficients you’ve just found, **plot the data together with your fit to them and the *residual* (*i.e.*, the difference between data and fit).**"
   ]
  },
  {
   "cell_type": "code",
   "execution_count": 22,
   "metadata": {},
   "outputs": [],
   "source": [
    "def y_fitted(x, coefficients):\n",
    "    return sum([c*x**i for i, c in enumerate(coefficients)])"
   ]
  },
  {
   "cell_type": "code",
   "execution_count": 23,
   "metadata": {},
   "outputs": [
    {
     "data": {
      "text/plain": [
       "[<matplotlib.lines.Line2D at 0x5b28c14358>]"
      ]
     },
     "execution_count": 23,
     "metadata": {},
     "output_type": "execute_result"
    },
    {
     "data": {
      "image/png": "[encoded data removed]",
      "text/plain": [
       "<Figure size 432x288 with 1 Axes>"
      ]
     },
     "metadata": {
      "needs_background": "light"
     },
     "output_type": "display_data"
    }
   ],
   "source": [
    "from pylab import plot, figure, legend, xlabel, ylabel\n",
    "from numpy import linspace\n",
    "y2 = y_fitted(x,quadratic_coefficients)\n",
    "plot(x, y, 'ok')\n",
    "plot(x, y2)"
   ]
  },
  {
   "cell_type": "markdown",
   "metadata": {},
   "source": [
    "▶ **CHECKPOINT 2**"
   ]
  },
  {
   "cell_type": "markdown",
   "metadata": {},
   "source": [
    "We now need some measure of how good the fit is. One such measure is the *reduced chi-squared*, which is simply the sum of the squared residuals divided by the number of *degrees of freedom* – that is, the number of parameters we have fitted:\n",
    "\n",
    "$$\n",
    "\\chi^2_\\text{red} = \\frac{\\sum_i(y_\\text{fitted} - y_\\text{observed})^2}{k + 1}.\n",
    "$$\n",
    "\n",
    "**Write a function `chi_squared(x, y, coefficients)` to calculate the reduced chi-squared. Evaluate this for your quadratic fit.** \n",
    "\n",
    "*Hint:* if you can, try to make your function independent of the number of coefficients so that you can reuse it for a fit that is not quadratic. The denominator $k+1$ is the size of `coefficients`: use `coefficients.size` or `len(coefficients)`."
   ]
  },
  {
   "cell_type": "code",
   "execution_count": 24,
   "metadata": {},
   "outputs": [],
   "source": [
    "def chi_squared(x, y, coefficients):\n",
    "    \"\"\"Documentation string here.\"\"\"\n",
    "    return sum((y_fitted(x, coefficients) - y)**2) / len(coefficients)"
   ]
  },
  {
   "cell_type": "code",
   "execution_count": 29,
   "metadata": {},
   "outputs": [
    {
     "name": "stdout",
     "output_type": "stream",
     "text": [
      "1045.9115539850202\n",
      "2872.5969514796584\n"
     ]
    }
   ],
   "source": [
    "chi_squared(x, y, quadratic_coefficients)\n",
    "cubic_coefficients = np.linalg.solve(coefficient_matrix(x,3), constant_matrix(x,y,3))\n",
    "print(chi_squared(x,y,cubic_coefficients))\n",
    "print(chi_squared(x,y,quadratic_coefficients))"
   ]
  },
  {
   "cell_type": "markdown",
   "metadata": {},
   "source": [
    "**Try higher-order fits (cubic, quartic, …). How does the $\\chi^2$ value change?**\n",
    "\n",
    "▶ **CHECKPOINT 3**"
   ]
  },
  {
   "cell_type": "code",
   "execution_count": null,
   "metadata": {},
   "outputs": [],
   "source": []
  }
 ],
 "metadata": {
  "kernelspec": {
   "display_name": "Python 3",
   "language": "python",
   "name": "python3"
  },
  "language_info": {
   "codemirror_mode": {
    "name": "ipython",
    "version": 3
   },
   "file_extension": ".py",
   "mimetype": "text/x-python",
   "name": "python",
   "nbconvert_exporter": "python",
   "pygments_lexer": "ipython3",
   "version": "3.7.1"
  }
 },
 "nbformat": 4,
 "nbformat_minor": 2
}
