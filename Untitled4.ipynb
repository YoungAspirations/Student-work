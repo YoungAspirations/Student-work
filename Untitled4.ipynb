{
 "cells": [
  {
   "cell_type": "code",
   "execution_count": 12,
   "metadata": {},
   "outputs": [
    {
     "name": "stderr",
     "output_type": "stream",
     "text": [
      "ImportError while loading conftest 'C:\\Users\\CPier\\Anaconda3\\lib\\site-packages\\sunpy\\conftest.py'.\n",
      "..\\Anaconda3\\lib\\site-packages\\sunpy\\conftest.py:13: in <module>\n",
      "    import sunpy.tests.helpers\n",
      "..\\Anaconda3\\lib\\site-packages\\sunpy\\tests\\helpers.py:25: in <module>\n",
      "    if any((glymur.lib.openjp2.OPENJP2, glymur.lib.openjpeg.OPENJPEG)):\n",
      "E   AttributeError: module 'glymur.lib' has no attribute 'openjpeg'\n"
     ]
    },
    {
     "data": {
      "text/plain": [
       "<ExitCode.USAGE_ERROR: 4>"
      ]
     },
     "execution_count": 12,
     "metadata": {},
     "output_type": "execute_result"
    }
   ],
   "source": [
    "#%pip install sunpy\n",
    "import sunpy\n",
    "sunpy.self_test()"
   ]
  },
  {
   "cell_type": "code",
   "execution_count": 11,
   "metadata": {},
   "outputs": [
    {
     "name": "stdout",
     "output_type": "stream",
     "text": [
      "Requirement already satisfied: sunpy in c:\\users\\cpier\\anaconda3\\lib\\site-packages (1.1.0)\n",
      "Requirement already satisfied: pandas in c:\\users\\cpier\\anaconda3\\lib\\site-packages (from sunpy) (0.23.4)\n",
      "Requirement already satisfied: numpy>=1.14.5 in c:\\users\\cpier\\anaconda3\\lib\\site-packages (from sunpy) (1.15.4)\n",
      "Requirement already satisfied: matplotlib>=1.3 in c:\\users\\cpier\\anaconda3\\lib\\site-packages (from sunpy) (3.0.2)\n",
      "Requirement already satisfied: parfive[ftp] in c:\\users\\cpier\\anaconda3\\lib\\site-packages (from sunpy) (1.0.0)\n",
      "Requirement already satisfied: importlib-resources; python_version < \"3.8\" in c:\\users\\cpier\\anaconda3\\lib\\site-packages (from sunpy) (1.0.2)\n",
      "Requirement already satisfied: scipy in c:\\users\\cpier\\anaconda3\\lib\\site-packages (from sunpy) (1.1.0)\n",
      "Requirement already satisfied: astropy>=3.1 in c:\\users\\cpier\\anaconda3\\lib\\site-packages (from sunpy) (3.1)\n",
      "Requirement already satisfied: python-dateutil>=2.5.0 in c:\\users\\cpier\\anaconda3\\lib\\site-packages (from pandas->sunpy) (2.7.5)\n",
      "Requirement already satisfied: pytz>=2011k in c:\\users\\cpier\\anaconda3\\lib\\site-packages (from pandas->sunpy) (2018.7)\n",
      "Requirement already satisfied: cycler>=0.10 in c:\\users\\cpier\\anaconda3\\lib\\site-packages (from matplotlib>=1.3->sunpy) (0.10.0)\n",
      "Requirement already satisfied: kiwisolver>=1.0.1 in c:\\users\\cpier\\anaconda3\\lib\\site-packages (from matplotlib>=1.3->sunpy) (1.0.1)\n",
      "Requirement already satisfied: pyparsing!=2.0.4,!=2.1.2,!=2.1.6,>=2.0.1 in c:\\users\\cpier\\anaconda3\\lib\\site-packages (from matplotlib>=1.3->sunpy) (2.3.0)\n",
      "Requirement already satisfied: tqdm in c:\\users\\cpier\\anaconda3\\lib\\site-packages (from parfive[ftp]->sunpy) (4.28.1)\n",
      "Requirement already satisfied: aiohttp in c:\\users\\cpier\\anaconda3\\lib\\site-packages (from parfive[ftp]->sunpy) (3.6.2)\n",
      "Requirement already satisfied: aioftp; extra == \"ftp\" in c:\\users\\cpier\\anaconda3\\lib\\site-packages (from parfive[ftp]->sunpy) (0.15.0)\n",
      "Requirement already satisfied: six>=1.5 in c:\\users\\cpier\\anaconda3\\lib\\site-packages (from python-dateutil>=2.5.0->pandas->sunpy) (1.12.0)\n",
      "Requirement already satisfied: setuptools in c:\\users\\cpier\\anaconda3\\lib\\site-packages (from kiwisolver>=1.0.1->matplotlib>=1.3->sunpy) (40.6.3)\n",
      "Requirement already satisfied: multidict<5.0,>=4.5 in c:\\users\\cpier\\anaconda3\\lib\\site-packages (from aiohttp->parfive[ftp]->sunpy) (4.7.4)\n",
      "Requirement already satisfied: attrs>=17.3.0 in c:\\users\\cpier\\anaconda3\\lib\\site-packages (from aiohttp->parfive[ftp]->sunpy) (18.2.0)\n",
      "Requirement already satisfied: async-timeout<4.0,>=3.0 in c:\\users\\cpier\\anaconda3\\lib\\site-packages (from aiohttp->parfive[ftp]->sunpy) (3.0.1)\n",
      "Requirement already satisfied: chardet<4.0,>=2.0 in c:\\users\\cpier\\anaconda3\\lib\\site-packages (from aiohttp->parfive[ftp]->sunpy) (3.0.4)\n",
      "Requirement already satisfied: yarl<2.0,>=1.0 in c:\\users\\cpier\\anaconda3\\lib\\site-packages (from aiohttp->parfive[ftp]->sunpy) (1.4.2)\n",
      "Requirement already satisfied: idna>=2.0 in c:\\users\\cpier\\anaconda3\\lib\\site-packages (from yarl<2.0,>=1.0->aiohttp->parfive[ftp]->sunpy) (2.8)\n"
     ]
    },
    {
     "ename": "NameError",
     "evalue": "name 'sunpy' is not defined",
     "output_type": "error",
     "traceback": [
      "\u001b[1;31m---------------------------------------------------------------------------\u001b[0m",
      "\u001b[1;31mNameError\u001b[0m                                 Traceback (most recent call last)",
      "\u001b[1;32m<ipython-input-11-0d2f3013b412>\u001b[0m in \u001b[0;36m<module>\u001b[1;34m\u001b[0m\n\u001b[0;32m      1\u001b[0m \u001b[1;32mimport\u001b[0m \u001b[0msys\u001b[0m\u001b[1;33m\u001b[0m\u001b[1;33m\u001b[0m\u001b[0m\n\u001b[0;32m      2\u001b[0m \u001b[0mget_ipython\u001b[0m\u001b[1;33m(\u001b[0m\u001b[1;33m)\u001b[0m\u001b[1;33m.\u001b[0m\u001b[0msystem\u001b[0m\u001b[1;33m(\u001b[0m\u001b[1;34m'{sys.executable} -m pip install sunpy'\u001b[0m\u001b[1;33m)\u001b[0m\u001b[1;33m\u001b[0m\u001b[1;33m\u001b[0m\u001b[0m\n\u001b[1;32m----> 3\u001b[1;33m \u001b[0msunpy\u001b[0m\u001b[1;33m.\u001b[0m\u001b[0mutil\u001b[0m\u001b[1;33m.\u001b[0m\u001b[0msystem_info\u001b[0m\u001b[1;33m(\u001b[0m\u001b[1;33m)\u001b[0m\u001b[1;33m\u001b[0m\u001b[1;33m\u001b[0m\u001b[0m\n\u001b[0m",
      "\u001b[1;31mNameError\u001b[0m: name 'sunpy' is not defined"
     ]
    }
   ],
   "source": [
    "import sys\n",
    "!{sys.executable} -m pip install sunpy\n",
    "sunpy.util.system_info() "
   ]
  },
  {
   "cell_type": "code",
   "execution_count": 9,
   "metadata": {},
   "outputs": [
    {
     "name": "stdout",
     "output_type": "stream",
     "text": [
      "Collecting sunpy.map\n"
     ]
    },
    {
     "name": "stderr",
     "output_type": "stream",
     "text": [
      "  Could not find a version that satisfies the requirement sunpy.map (from versions: )\n",
      "No matching distribution found for sunpy.map\n"
     ]
    }
   ],
   "source": [
    "import sys\n",
    "!{sys.executable} -m pip install sunpy.map\n",
    "sunpy.util.system_info() "
   ]
  },
  {
   "cell_type": "code",
   "execution_count": 10,
   "metadata": {},
   "outputs": [
    {
     "ename": "NameError",
     "evalue": "name 'sunpy' is not defined",
     "output_type": "error",
     "traceback": [
      "\u001b[1;31m---------------------------------------------------------------------------\u001b[0m",
      "\u001b[1;31mNameError\u001b[0m                                 Traceback (most recent call last)",
      "\u001b[1;32m<ipython-input-10-48923860b8b2>\u001b[0m in \u001b[0;36m<module>\u001b[1;34m\u001b[0m\n\u001b[1;32m----> 1\u001b[1;33m \u001b[0msunpy\u001b[0m\u001b[1;33m.\u001b[0m\u001b[0mutil\u001b[0m\u001b[1;33m.\u001b[0m\u001b[0msystem_info\u001b[0m\u001b[1;33m(\u001b[0m\u001b[1;33m)\u001b[0m\u001b[1;33m\u001b[0m\u001b[1;33m\u001b[0m\u001b[0m\n\u001b[0m",
      "\u001b[1;31mNameError\u001b[0m: name 'sunpy' is not defined"
     ]
    }
   ],
   "source": [
    "sunpy.util.system_info() "
   ]
  },
  {
   "cell_type": "code",
   "execution_count": null,
   "metadata": {},
   "outputs": [],
   "source": []
  }
 ],
 "metadata": {
  "kernelspec": {
   "display_name": "Python 3",
   "language": "python",
   "name": "python3"
  },
  "language_info": {
   "codemirror_mode": {
    "name": "ipython",
    "version": 3
   },
   "file_extension": ".py",
   "mimetype": "text/x-python",
   "name": "python",
   "nbconvert_exporter": "python",
   "pygments_lexer": "ipython3",
   "version": "3.7.1"
  }
 },
 "nbformat": 4,
 "nbformat_minor": 2
}
