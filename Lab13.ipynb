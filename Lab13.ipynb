{
 "cells": [
  {
   "cell_type": "markdown",
   "metadata": {},
   "source": [
    "# Lab 13: Eigenvectors and eigenvalues\n",
    "\n",
    "We've already begun to look at how to use numpy `array`s to represent mathematical matrices. In this lab, we'll see some further examples of how matrices are useful in scientific programming: specifically, the important role that the *eigenvectors* and *eigenvalues* of these matrices play. Actually, this sort of analysis is central to disciplines ranging from economics to engineering; here we'll just consider two examples, from physics and ecology."
   ]
  },
  {
   "cell_type": "code",
   "execution_count": 1,
   "metadata": {},
   "outputs": [],
   "source": [
    "# Once again we start by importing some standard helper functions:\n",
    "\n",
    "from numpy import array\n",
    "from numpy.linalg import eig"
   ]
  },
  {
   "cell_type": "markdown",
   "metadata": {},
   "source": [
    "## A quick reminder: working with multidimensional arrays\n",
    "\n",
    "Recall that we can make an `array` out of a list (or tuple) by using the `array()` function (actually *every* data type in Python has a function like this named after itself: you will remember that we have already found the `int()` function useful). If we want to create a multidimensional array, we just need to start with nested lists (that is, lists within lists):"
   ]
  },
  {
   "cell_type": "code",
   "execution_count": 2,
   "metadata": {},
   "outputs": [
    {
     "name": "stdout",
     "output_type": "stream",
     "text": [
      "[[1 2]\n",
      " [3 4]]\n"
     ]
    }
   ],
   "source": [
    "my_matrix = array([[1, 2], [3, 4]])\n",
    "print(my_matrix)"
   ]
  },
  {
   "cell_type": "markdown",
   "metadata": {},
   "source": [
    "Once we have created the array, we can refer to individual elements using the familiar square bracket notation (not forgetting, of course, that indexing always starts from zero, and that negative numbers count from the *end*): "
   ]
  },
  {
   "cell_type": "code",
   "execution_count": 3,
   "metadata": {},
   "outputs": [
    {
     "data": {
      "text/plain": [
       "1"
      ]
     },
     "execution_count": 3,
     "metadata": {},
     "output_type": "execute_result"
    }
   ],
   "source": [
    "my_matrix[0, 0]"
   ]
  },
  {
   "cell_type": "code",
   "execution_count": 4,
   "metadata": {},
   "outputs": [
    {
     "data": {
      "text/plain": [
       "2"
      ]
     },
     "execution_count": 4,
     "metadata": {},
     "output_type": "execute_result"
    }
   ],
   "source": [
    "my_matrix[0, -1] # In this case, the same as my_matrix[0, 1]"
   ]
  },
  {
   "cell_type": "markdown",
   "metadata": {},
   "source": [
    "If we want to \"slice\" out a whole row or whole column, a colon alone comes in handy:"
   ]
  },
  {
   "cell_type": "code",
   "execution_count": 5,
   "metadata": {},
   "outputs": [
    {
     "data": {
      "text/plain": [
       "array([1, 3])"
      ]
     },
     "execution_count": 5,
     "metadata": {},
     "output_type": "execute_result"
    }
   ],
   "source": [
    "my_matrix[:,0] # First column"
   ]
  },
  {
   "cell_type": "code",
   "execution_count": 6,
   "metadata": {},
   "outputs": [
    {
     "data": {
      "text/plain": [
       "array([3, 4])"
      ]
     },
     "execution_count": 6,
     "metadata": {},
     "output_type": "execute_result"
    }
   ],
   "source": [
    "my_matrix[1,:] # Second row"
   ]
  },
  {
   "cell_type": "markdown",
   "metadata": {},
   "source": [
    "(Remember that we saw this notation all the way back in Lab 2: `a[1:3]` gives the second and third elements of `a`, `a[1:]` gives the second element and everything thereafter, and therefore `a[:]` gives absolutely everything! Obviously for a one-dimensional list or array there is little reason to use this notation, but it is very useful when dealing with multidimensional arrays.)"
   ]
  },
  {
   "cell_type": "markdown",
   "metadata": {},
   "source": [
    "We can find the eigenvectors and eigenvalues of a matrix together by using the function `eig` from `numpy.linalg`. As a quick reminder of their properties and a test of this function, use Python to **calculate the eigenvectors and eigenvalues of the matrix**. You can of course read the documentation of this (or any) function with `?env` after you have loaded it into the namespace.\n",
    "\n",
    "$$\\mathbf{M} = \n",
    "\\begin{pmatrix}\n",
    "1 & -2 \\\\ 1 & 4\n",
    "\\end{pmatrix}\n",
    "$$\n",
    "\n",
    "**Check that each eigenvector $\\mathbf{v}$ obeys $\\mathbf{Mv} = \\lambda\\mathbf{v}$, where $\\lambda$ is the corresponding eigenvalue.**\n",
    "\n",
    "*Hint 1:* The `eig` function returns the eigenvectors and eigenvalues as a tuple, so you might like to write something like `eigenvalues, eigenvectors = eig(M)`.\n",
    "\n",
    "*Hint 2:* The eigenvectors are the *columns* of the relevant matrix, so use array slicing as above to isolate them.\n",
    "\n",
    "You might like to check your solutions by hand calculation. Note that eigenvectors are only uniquely specified up to a scalar multiple; Python may not find as neat a solution as you might by hand."
   ]
  },
  {
   "cell_type": "code",
   "execution_count": 7,
   "metadata": {},
   "outputs": [
    {
     "name": "stdout",
     "output_type": "stream",
     "text": [
      "[-1.78885438  0.89442719]\n",
      "[-1.78885438  0.89442719]\n"
     ]
    }
   ],
   "source": [
    "M = array([[1, -2], [1, 4]])\n",
    "eigenvalues, eigenvectors = eig(M)\n",
    "print(M@eigenvectors[:,0])\n",
    "print(eigenvalues[0]*eigenvectors[:,0])"
   ]
  },
  {
   "cell_type": "markdown",
   "metadata": {},
   "source": [
    "## An ecology example: Leslie matrices\n",
    "\n",
    "An important task in ecology is to study the population of species as a function of time. If a species has different forms or ages (*e.g.*, for butterflies egg, larva, chrysalis, then adult), the number of each form will depend on the number of the *other* forms in the previous time period: eggs will hatch into larvae, while adults lay eggs.\n",
    "\n",
    "To take a concrete example, let's suppose that some animal has a lifespan of four years: the first year as an infant, the second as an adolescent, the third as a young adult, and the fourth as a mature adult. These animals can reproduce after the first year, but reproduction rates are greater for older animals. Only a few infants survive to adolescence, but there is then a greater chance of surviving to young adulthood and a greater chance still of surviving to maturity. This could be described as a Leslie matrix model:\n",
    "\n",
    "$$\n",
    "\\begin{pmatrix}x_1 \\\\ x_2 \\\\ x_3 \\\\ x_4\\end{pmatrix}_{t=1} = \n",
    "\\begin{pmatrix} 0 & 4 & 20 & 60 \\\\ 0.05 & 0 & 0 & 0 \\\\ 0 & 0.3 & 0 & 0 \\\\ 0 & 0 & 0.6 & 0 \\end{pmatrix}\n",
    "\\begin{pmatrix}x_1 \\\\ x_2 \\\\ x_3 \\\\ x_4\\end{pmatrix}_{t=0}\n",
    "$$\n",
    "\n",
    "where $x_1, \\dots, x_4$ represent the population at each stage of the life cycle, and the square matrix is the Leslie matrix itself.\n",
    "\n",
    "**Represent this matrix in Python.** If the initial populations are $x_1 = 500, x_2 = 50, x_3 = 6, x_4 = 3$, **calculate the populations after 1 year.**"
   ]
  },
  {
   "cell_type": "code",
   "execution_count": 8,
   "metadata": {},
   "outputs": [
    {
     "name": "stdout",
     "output_type": "stream",
     "text": [
      "[[500. ]\n",
      " [ 25. ]\n",
      " [ 15. ]\n",
      " [  3.6]]\n"
     ]
    }
   ],
   "source": [
    "import numpy as np\n",
    "A = array([[0,4,20,60],[0.05,0,0,0],[0,0.3,0,0],[0,0,0.6,0]])\n",
    "B = array([[500],[50],[6],[3]])\n",
    "population_t1 = A@B \n",
    "print(population_t1)"
   ]
  },
  {
   "cell_type": "markdown",
   "metadata": {},
   "source": [
    "**Plot the population of each life stage as a function of time for 20 years.**\n",
    "\n",
    "*Hint:* to accumulate the population over each year, you might want to use the `vstack` command from `numpy`, which as the name suggests \"stacks\" vectors together into a two-dimensional matrix. (The `hstack` command does something very similar.)"
   ]
  },
  {
   "cell_type": "code",
   "execution_count": 9,
   "metadata": {},
   "outputs": [
    {
     "data": {
      "text/plain": [
       "<matplotlib.legend.Legend at 0x428e89f8d0>"
      ]
     },
     "execution_count": 9,
     "metadata": {},
     "output_type": "execute_result"
    }
   ],
   "source": [
    "from pylab import legend, figure,subplot,plot as plt\n",
    "A = array([[0,4,20,60],[0.05,0,0,0],[0,0.3,0,0],[0,0,0.6,0]])\n",
    "B = array([[500],[50],[6],[3]]) \n",
    "time = []\n",
    "population1 = []\n",
    "population2 = []\n",
    "population3 = []\n",
    "population4 = []\n",
    "for i in range(20):\n",
    "    time.append(i)\n",
    "    population_yr = A@B\n",
    "    population1.append(np.vstack(population_yr)[0])\n",
    "    population2.append(np.vstack(population_yr)[1])\n",
    "    population3.append(np.vstack(population_yr)[2])\n",
    "    population4.append(np.vstack(population_yr)[3])\n",
    "    B = population_yr\n",
    "\n",
    "figure()\n",
    "subplot(2, 1, 1)\n",
    "plt(time,population1, label = 'Population 1')\n",
    "legend()\n",
    "subplot(2, 2, 4)\n",
    "plt(time,population2, label = 'Population 2') \n",
    "legend()\n",
    "subplot(2, 2, 3)\n",
    "plt(time,population3, label = 'Population 3') \n",
    "plt(time,population4, label = 'Population 4')\n",
    "legend()\n",
    "#?np.vstack"
   ]
  },
  {
   "cell_type": "markdown",
   "metadata": {},
   "source": [
    "▶ **CHECKPOINT 1**"
   ]
  },
  {
   "cell_type": "markdown",
   "metadata": {},
   "source": [
    "To analyse the long-term prognosis for this population, we turn to the eigenvalues of the Leslie matrix. The dominant eigenvalue that determines the population in the long term will be the one with the greatest magnitude. If its magnitude is greater than 1, there will be exponential growth, but if it is less than one then this will become exponential decay.\n",
    "\n",
    "**Calculate the eigenvalues and eigenvectors of this matrix. Calculate the magnitudes of the eigenvalues** (the `abs` function will do). Hence **identify the eigenvector responsible for the long-term behaviour of this system.**"
   ]
  },
  {
   "cell_type": "code",
   "execution_count": 10,
   "metadata": {
    "scrolled": true
   },
   "outputs": [
    {
     "name": "stdout",
     "output_type": "stream",
     "text": [
      "1.011871479428346\n"
     ]
    },
    {
     "data": {
      "text/plain": [
       "array([-0.99863691+0.j, -0.04934603+0.j, -0.01463013+0.j, -0.00867509+0.j])"
      ]
     },
     "execution_count": 10,
     "metadata": {},
     "output_type": "execute_result"
    }
   ],
   "source": [
    "eigenvalues, eigenvectors = eig(A)\n",
    "eigenvalues =  abs(eigenvalues)\n",
    "print(eigenvalues[0])\n",
    "np.linalg.det(A - np.eye(4)*eigenvalues[0]) \n",
    "#print(A@eigenvectors[:,0])\n",
    "#print(eigenvalues[0]*eigenvectors[:,0])\n",
    "eigenvectors[:,0]"
   ]
  },
  {
   "cell_type": "markdown",
   "metadata": {},
   "source": [
    "The eigenvectors are orthonormal and have a norm =1.  The individual components indicate the fraction of the population in each group (e.g., infant, adolescent, young adult, mature adult).\n",
    "\n",
    "**What is the long-term population distribution** – that is, for every mature adult, how many young adults, adolescents, and juveniles would you expect? **Do your results match your 20-year calculation above?** \n",
    "\n",
    "(Your answers should of course be real, but feel free to use the `.real` property to get rid of the `+0j`s if they're irritating you!)"
   ]
  },
  {
   "cell_type": "code",
   "execution_count": 11,
   "metadata": {},
   "outputs": [
    {
     "name": "stdout",
     "output_type": "stream",
     "text": [
      "1.011871479428346\n",
      "[115.11543416   5.68824384   1.68645247   1.        ]\n"
     ]
    }
   ],
   "source": [
    "print(eigenvalues[0]) # [0] is the dominant one\n",
    "print(eigenvectors[:,0].real/(eigenvectors[:,0][3].real))"
   ]
  },
  {
   "cell_type": "markdown",
   "metadata": {},
   "source": [
    "**Plot a graph of the dominant eigenvalue as a function of the infant survival rate** (*i.e.*, the `[1,0]` element of the Leslie matrix) **over a range just below its initial value of 0.05. How far can this number fall before this animal is at risk of extinction?**"
   ]
  },
  {
   "cell_type": "code",
   "execution_count": 12,
   "metadata": {},
   "outputs": [
    {
     "data": {
      "text/plain": [
       "[<matplotlib.lines.Line2D at 0x428eaa4fd0>]"
      ]
     },
     "execution_count": 12,
     "metadata": {},
     "output_type": "execute_result"
    },
    {
     "data": {
      "image/png": "[encoded data removed]",
      "text/plain": [
       "<Figure size 432x288 with 1 Axes>"
      ]
     },
     "metadata": {
      "needs_background": "light"
     },
     "output_type": "display_data"
    }
   ],
   "source": [
    "dominant_eigenvalues = []\n",
    "\n",
    "infant_s_rate = np.linspace(0,0.1,101)\n",
    "for i in infant_s_rate:\n",
    "    A = array([[0,4,20,60],[i,0,0,0],[0,0.3,0,0],[0,0,0.6,0]])\n",
    "    eigenvalues, eigenvectors = eig(A)\n",
    "    eigenvalues_max = abs(eigenvalues.max())\n",
    "    dominant_eigenvalues.append(eigenvalues_max)\n",
    "plt(infant_s_rate, dominant_eigenvalues)"
   ]
  },
  {
   "cell_type": "markdown",
   "metadata": {},
   "source": [
    "▶ **CHECKPOINT 2**"
   ]
  },
  {
   "attachments": {
    "co2.png": {
     "image/png": "[encoded data removed]"
    }
   },
   "cell_type": "markdown",
   "metadata": {},
   "source": [
    "## A physics example: normal modes of vibrating molecules\n",
    "\n",
    "As we saw in class, when the force on some object depends linearly on the positions of *other* objects, we can write the equations of motion as a single matrix equation. This is very often the case for the motion of chemically bonded atoms. For instance, consider a molecule of carbon dioxide:\n",
    "\n",
    "![co2.png](attachment:co2.png)\n",
    "\n",
    "As the diagram suggests, we model this as three point masses connected by ideal springs. The C atom has mass $m$, the O atoms mass $M$, and the bonds have spring constant $J$. Then the equations of motion are\n",
    "\n",
    "$$\n",
    "\\begin{align*}\n",
    "M\\ddot{x}_1 &= -J(x_1 - x_2) \\\\\n",
    "m\\ddot{x}_2 &= -J(x_2 - x_1) - J(x_2 - x_3)\\\\\n",
    "M\\ddot{x}_3 &= -J(x_3 - x_2) \\\\\n",
    "\\end{align*}\n",
    "$$\n",
    "\n",
    "Let's write this as a matrix equation, $\\ddot{\\mathbf{x}} = -\\mathbf{A}\\mathbf{x}$. Then, if $\\mathbf{x}$ is an eigenvector of $\\mathbf{A}$ with positive eigenvalue $\\lambda$, $\\ddot{\\mathbf{x}} = -\\mathbf{A}\\mathbf{x} = -\\lambda\\mathbf{x}$ and we have the equation for simple harmonic motion with frequency $\\sqrt{\\lambda}$.\n",
    "\n",
    "**Convert these equations to a matrix equation of the form above. Find $\\mathbf{A}$ and its eigenvectors and eigenvalues.** The atomic mass of the oxygen atom is $M = 16$ and the atomic mass of the carbon atom is $m = 12$.  However, the equations are simpler if we use units of atomic mass of oxygen.  That is, set $M=1$ and $m=12/16$.\n",
    "\n",
    "*Hint*: you can just set $J = 1$ since this is a common factor in the equation."
   ]
  },
  {
   "cell_type": "code",
   "execution_count": 13,
   "metadata": {},
   "outputs": [
    {
     "name": "stdout",
     "output_type": "stream",
     "text": [
      "[3.66666667e+00 1.00000000e+00 1.00429348e-16]\n",
      "[-0.33129458  0.88345221 -0.33129458]\n"
     ]
    }
   ],
   "source": [
    "M = 1\n",
    "m = 12/16\n",
    "J = 1\n",
    "#let x1,x2,x3 = 1, for simplicity as they are not defined\n",
    "x1, x2, x3 = 1, 1, 1\n",
    "x1_2dots = (-J/M)*np.array([x1,-x2,0*x3])\n",
    "x2_2dots = (-J/m)*np.array([-x1,x2,0*x3]) -(J/m)*np.array([0*x1,x2,-x3])\n",
    "x3_2dots = (-J/M)*np.array([0*x1,-x2,x3])\n",
    "\n",
    "A = np.array([x1_2dots,x2_2dots,x3_2dots])\n",
    "eigenvalues3, eigenvectors3 = eig(A)\n",
    "print(abs(eigenvalues3))\n",
    "print(eigenvectors3[:,0])\n",
    "#print(B)"
   ]
  },
  {
   "cell_type": "markdown",
   "metadata": {},
   "source": [
    "**Sketch the motion of the atoms corresponding to each of the eigenvectors** (that is, draw three copies of the molecule, in each case with each atom displaced in the correct direction according to the corresponding eigenvector). This should look similar to the C02 diagram above (you could also plot this with bar graphs if you are feeling so inclined).  **Do their corresponding eigenvalues make sense?**"
   ]
  },
  {
   "cell_type": "code",
   "execution_count": null,
   "metadata": {},
   "outputs": [],
   "source": []
  },
  {
   "cell_type": "markdown",
   "metadata": {},
   "source": [
    "**In the same way, calculate the normal modes for the linear, tetratomic molecule $\\mathrm{OCCO}$.**\n",
    "\n",
    "(For simplicity, take the C–O and C–C spring constants to be the same. In practice, of course, this will not be the case!)"
   ]
  },
  {
   "cell_type": "code",
   "execution_count": 14,
   "metadata": {},
   "outputs": [
    {
     "data": {
      "text/plain": [
       "(array([-3.89277411e+00, -2.16838470e+00,  7.85373107e-17, -6.05507860e-01]),\n",
       " array([[-0.21993614, -0.3952867 , -0.5       , -0.48170408],\n",
       "        [ 0.63622557,  0.46184694, -0.5       , -0.19002847],\n",
       "        [-0.69890791,  0.60322996, -0.5       ,  0.31393607],\n",
       "        [ 0.24160473, -0.51629396, -0.5       ,  0.79579803]]))"
      ]
     },
     "execution_count": 14,
     "metadata": {},
     "output_type": "execute_result"
    }
   ],
   "source": [
    "x1, x2, x3, x4 = 1, 1, 1, 1\n",
    "M = 1\n",
    "m = 12/16\n",
    "J = 1\n",
    "x_1_2dots = (-J/M)*np.array([x1,-x2,0*x3,0*x4])\n",
    "x_2_2dots = (-J/m)*np.array([-x1,x2,0*x3,0*x4]) -J*np.array([0*x1,x2,-x3,0*x4])\n",
    "x_3_2dots = (-J/m)*np.array([0*x1,-x2,x3, 0*x4]) -J*np.array([0*x1,0*x2,x3,-x4])\n",
    "x_4_2dots = (-J/M)*np.array([0*x1,0*x2,-x3,x4])\n",
    "B = np.array([x_1_2dots,x_2_2dots,x_3_2dots,x_4_2dots])\n",
    "eig(B)"
   ]
  },
  {
   "cell_type": "markdown",
   "metadata": {},
   "source": [
    "▶ **CHECKPOINT 3**"
   ]
  }
 ],
 "metadata": {
  "kernelspec": {
   "display_name": "Python 3",
   "language": "python",
   "name": "python3"
  },
  "language_info": {
   "codemirror_mode": {
    "name": "ipython",
    "version": 3
   },
   "file_extension": ".py",
   "mimetype": "text/x-python",
   "name": "python",
   "nbconvert_exporter": "python",
   "pygments_lexer": "ipython3",
   "version": "3.7.1"
  }
 },
 "nbformat": 4,
 "nbformat_minor": 2
}
