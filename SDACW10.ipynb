{
 "cells": [
  {
   "cell_type": "code",
   "execution_count": 20,
   "metadata": {},
   "outputs": [
    {
     "name": "stdout",
     "output_type": "stream",
     "text": [
      "[-0.8, -0.5, -0.1, 0.0, 0.1, 0.6]\n",
      "2.138089935299395\n"
     ]
    }
   ],
   "source": [
    "import matplotlib.pyplot as plt\n",
    "import numpy as np\n",
    "Signal_values =[-1.0,-0.9,-0.7,-0.5,-0.2,0.1,0.2,0.7]\n",
    "Background_values = [-5.0,-4.4,-3.3,-2.2,-1.5,-1.3,-0.8,-0.5,-0.1,0.0,0.1,0.6,0.8,1.2,3.4]\n",
    "New_background_set = []\n",
    "\n",
    "def Significane(Signal_values,New_background_set):\n",
    "    s = len(Signal_values)/np.sqrt(len(Signal_values) + len(New_background_set))\n",
    "    return s\n",
    "for i in range(len(Background_values)):\n",
    "    if Background_values[i] >= -1 and Background_values[i] <= .7:\n",
    "        New_background_set.append(Background_values[i])\n",
    "print(New_background_set)\n",
    "print(Significane(Signal_values,New_background_set))"
   ]
  },
  {
   "cell_type": "code",
   "execution_count": null,
   "metadata": {},
   "outputs": [],
   "source": []
  }
 ],
 "metadata": {
  "kernelspec": {
   "display_name": "Python 3",
   "language": "python",
   "name": "python3"
  },
  "language_info": {
   "codemirror_mode": {
    "name": "ipython",
    "version": 3
   },
   "file_extension": ".py",
   "mimetype": "text/x-python",
   "name": "python",
   "nbconvert_exporter": "python",
   "pygments_lexer": "ipython3",
   "version": "3.7.1"
  }
 },
 "nbformat": 4,
 "nbformat_minor": 2
}
