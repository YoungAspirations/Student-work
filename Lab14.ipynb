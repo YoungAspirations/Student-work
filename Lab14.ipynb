{
 "cells": [
  {
   "cell_type": "markdown",
   "metadata": {},
   "source": [
    "# Lab 14: Random numbers and Monte Carlo integration\n",
    "\n",
    "In this lab, we will look at integration using so-called *Monte Carlo* methods, which rely on random (or *pseudorandom*) numbers. In the process, we’ll discover more about how to generate these numbers and what else they can be used for.\n",
    "\n",
    "Reference:  Computational Physics, (2012) by Mark Newman contains a good discussion of pseudo random numbers and Monte Carlo methods.  Some of the material in this lab comes from this excellent book."
   ]
  },
  {
   "cell_type": "markdown",
   "metadata": {},
   "source": [
    "## Pseudorandom numbers\n",
    "A simple pseudorandom number generator follows the formula: \n",
    "\n",
    "$$r_{i+1} = (ar_i + c) \\mod M,$$ \n",
    "\n",
    "where $a$, $c$, and $M$ are specified integer constants. This gives integers between 0 and $M-1$. \n",
    "\n",
    "This is called a *linear congruential random number generator*.  It generates a string of apparently random positive integers, by iterating the equation over and over.\n",
    "\n",
    "Clearly you need an initial value to begin iterating on the sequence.  This value $r_0$ is called the *'seed'* of the pseudorandom number generator. \n",
    "\n",
    "**Write a programme to generate random integers using the relation above**\n",
    "\n",
    "Note:  In Python, the modulo (“remainder”) operator is `%` (you can always open a new cell and try typing a few examples to remind yourself of how this works. e.g., 11%3 ...etc).\n",
    "\n",
    "Start by using the values $M = 2^6$, $c = 1$, $a = 57$, and begin iterating with a seed of $r_0 = 10$.\n",
    "\n",
    "**Determine the period of this generator:** that is, how many values does it generate before returning to the starting point $r = 10$, or initial seed value?"
   ]
  },
  {
   "cell_type": "code",
   "execution_count": 2,
   "metadata": {
    "scrolled": true
   },
   "outputs": [
    {
     "name": "stdout",
     "output_type": "stream",
     "text": [
      "64\n"
     ]
    }
   ],
   "source": [
    "M, c, a, r0 = 2**6, 1, 57, 10\n",
    "def r_n(r0):\n",
    "    i = 1\n",
    "    r = (a*r0 + c)%M\n",
    "    while r != r0:\n",
    "        i = i + 1\n",
    "        r = ((a*r) + c)%M\n",
    "        #print(r)\n",
    "    print(i)\n",
    "r_n(r0)"
   ]
  },
  {
   "cell_type": "markdown",
   "metadata": {},
   "source": [
    "**Using your code above explore some of these characteristics of this pseudorandom number generator:**\n",
    "- Are the numbers in the sequence truly random or deterministic?  If you run it again with the same choices of constants and seed, you will get the same list of numbers?  \n",
    "- What happens to the sequence of numbers if you start with a different initial seed $r_0$?  Explore using successive values in the sequence as $r_0$.  What happens?\n",
    "- The chosen values of the constants $a$, $c$, and $M$ matter. What is the maximum value in the sequence of integers?  How is it limited by the choice of constants?\n",
    "\n"
   ]
  },
  {
   "cell_type": "code",
   "execution_count": 3,
   "metadata": {},
   "outputs": [],
   "source": [
    "#The numbers in this sequence are deterministic and not random. And, after running this multiple times with the same values generate the same list of values."
   ]
  },
  {
   "cell_type": "code",
   "execution_count": 4,
   "metadata": {},
   "outputs": [
    {
     "name": "stdout",
     "output_type": "stream",
     "text": [
      "64\n"
     ]
    }
   ],
   "source": [
    "r0 = 31\n",
    "r_n(r0) #We get the same amount of steps at 64 "
   ]
  },
  {
   "cell_type": "code",
   "execution_count": 5,
   "metadata": {},
   "outputs": [],
   "source": [
    "#The maximum values of the sequence of integers is M - 1 and is mostly limited by M."
   ]
  },
  {
   "cell_type": "markdown",
   "metadata": {},
   "source": [
    "\n",
    "Now, initiate your sequence with the values $M = 2^8$, $c = 1$, $a = 57$, and begin iterating with $r_0 = 10$.\n",
    "\n",
    "**Again, determine the period of this generator:** that is, how many values does it generate before returning to the starting point $r = 10$, or initial seed value?  Is it what you expect?\n",
    "\n",
    "Note - sometimes we would prefer to have random floating-point numbers rather than integers.  To get a list of floating-point values we can divide the values of $r$ by $M$ to get a sequence of floating-point numbers in the range $[0,1)$. "
   ]
  },
  {
   "cell_type": "code",
   "execution_count": 6,
   "metadata": {},
   "outputs": [
    {
     "name": "stdout",
     "output_type": "stream",
     "text": [
      "256\n"
     ]
    }
   ],
   "source": [
    "M, c, a, r0 = 2**8, 1, 57, 10\n",
    "r_n(r0) # 256 steps, giving a wider range of possible values allows for greater steps to be made and it does meet my expectations."
   ]
  },
  {
   "cell_type": "markdown",
   "metadata": {},
   "source": [
    "So it generates 256 values before returning to r=10,  The period of the sequence is $M=2^8 = 256$"
   ]
  },
  {
   "cell_type": "markdown",
   "metadata": {},
   "source": [
    "**Plot successive random numbers in your sequence as pairs:**  that is $(x,y) = (r_i,r_{i+1})$ plotted as points.  Or $(r_0, r_1)$, $(r_2, r_3)$, and so forth.\n",
    "\n",
    "**Explain why this may not be a suitable random number generator for serious use.**\n",
    "\n"
   ]
  },
  {
   "cell_type": "code",
   "execution_count": 7,
   "metadata": {},
   "outputs": [
    {
     "data": {
      "text/plain": [
       "[<matplotlib.lines.Line2D at 0x7e9b81e438>]"
      ]
     },
     "execution_count": 7,
     "metadata": {},
     "output_type": "execute_result"
    },
    {
     "data": {
      "image/png": "[encoded data removed]",
      "text/plain": [
       "<Figure size 432x288 with 1 Axes>"
      ]
     },
     "metadata": {
      "needs_background": "light"
     },
     "output_type": "display_data"
    }
   ],
   "source": [
    "from pylab import figure, plot as plt\n",
    "\n",
    "values = []\n",
    "M, c, a, r0 = 2**8, 1, 57, 10\n",
    "def r_n_plot(r0):\n",
    "    i = 1\n",
    "    r = (a*r0 + c)%M\n",
    "    values.append(r)\n",
    "    while r != r0:\n",
    "        i = i + 1\n",
    "        r = ((a*r) + c)%M\n",
    "        values.append(r)\n",
    "\n",
    "r_n_plot(r0)\n",
    "#print(values)\n",
    "x = values[0::2]\n",
    "y = values[1::2]\n",
    "#print(y)\n",
    "plt(x,y, 'o')"
   ]
  },
  {
   "cell_type": "markdown",
   "metadata": {},
   "source": [
    "The 'random' numbers are clearly layed out on a grid with even spacing.  This is a regular, and certainly not close to random arrangment of numbers.   Also, it has a very short period and would 'run out' of numbers after just 256 values.\n"
   ]
  },
  {
   "cell_type": "markdown",
   "metadata": {},
   "source": [
    "**Make another version of the plot** this time using the more realistic values $M = 2^{48}$, $c = 11$, $a = 25 214 903 917$.\n",
    "\n",
    "Plot the first 128 pairs of points (or 256 values of the sequence)\n",
    "\n",
    "Is the choice of sequence constants important for the *randomness* of the sequence?"
   ]
  },
  {
   "cell_type": "code",
   "execution_count": 8,
   "metadata": {},
   "outputs": [
    {
     "data": {
      "text/plain": [
       "[<matplotlib.lines.Line2D at 0x7e9b8a9c88>]"
      ]
     },
     "execution_count": 8,
     "metadata": {},
     "output_type": "execute_result"
    },
    {
     "data": {
      "image/png": "[encoded data removed]",
      "text/plain": [
       "<Figure size 432x288 with 1 Axes>"
      ]
     },
     "metadata": {
      "needs_background": "light"
     },
     "output_type": "display_data"
    }
   ],
   "source": [
    "M, c, a, r0 = 2**48, 11, 25214903917, 10\n",
    "values2 = []\n",
    "def r_n_plot2(r0):\n",
    "    i = 1\n",
    "    r = (a*r0 + c)%M\n",
    "    values2.append(r)\n",
    "    while r != r0:\n",
    "        i = i + 1\n",
    "        r = ((a*r) + c)%M\n",
    "        values2.append(r)\n",
    "        if i == 256:\n",
    "            return\n",
    "r_n_plot2(r0)\n",
    "x2 = values2[0::2]\n",
    "y2 = values2[1::2]\n",
    "#print(values2)\n",
    "plt(x2,y2,'o') # The choice of sequence constant is not important for the 'randomness' of the sequence, it just allows for a greater number of steps to be made"
   ]
  },
  {
   "cell_type": "markdown",
   "metadata": {},
   "source": [
    "## Random Number Generators in Numpy ##\n",
    "\n",
    "From the above you can see that one needs to be a little careful about the algorithm and choice of constants to produce effectively random numbers.  Generally speaking we use standard library routines to for these purposes that have been rigourously tested, rather than writing our own.\n",
    "\n",
    "You can import functions from the `numpy` module for these purposes.  \n",
    "\n",
    "`np.random.random_sample` - creates arrays of random floats  on the interval of $[0,1)$.\n",
    "\n",
    "`np.random.seed` - sets the seed of the random number sequence.\n",
    "\n",
    "Load these functions into the namespace and have a read through the documentation to see how to use them.  We will use these later in this lab."
   ]
  },
  {
   "cell_type": "code",
   "execution_count": 9,
   "metadata": {},
   "outputs": [],
   "source": [
    "from numpy.random import random_sample, seed"
   ]
  },
  {
   "cell_type": "code",
   "execution_count": 10,
   "metadata": {},
   "outputs": [],
   "source": [
    "?random_sample\n"
   ]
  },
  {
   "cell_type": "code",
   "execution_count": 11,
   "metadata": {},
   "outputs": [],
   "source": [
    "?seed\n"
   ]
  },
  {
   "cell_type": "markdown",
   "metadata": {},
   "source": [
    "**Read the documentation and try creating a few arrays of random numbers by exploring these functions below.**  Try using different seeds and numbers of values."
   ]
  },
  {
   "cell_type": "code",
   "execution_count": 12,
   "metadata": {},
   "outputs": [
    {
     "data": {
      "text/plain": [
       "array([0.96702984, 0.54723225, 0.97268436, 0.71481599, 0.69772882,\n",
       "       0.2160895 , 0.97627445, 0.00623026, 0.25298236, 0.43479153])"
      ]
     },
     "execution_count": 12,
     "metadata": {},
     "output_type": "execute_result"
    }
   ],
   "source": [
    "seed(4)\n",
    "random_sample(10)"
   ]
  },
  {
   "cell_type": "markdown",
   "metadata": {},
   "source": [
    "▶ **CHECKPOINT 1**"
   ]
  },
  {
   "cell_type": "markdown",
   "metadata": {},
   "source": [
    "## Interlude: more on `array`s\n",
    "\n",
    "In practice, it’s almost always best to use pseudorandom number generators written by experts. Our pseudorandom numbers will be generated using functions from the `numpy.random` module, which returns these numbers as `array`s. We’ll need two useful methods of this data type.\n",
    "\n",
    "First, the `reshape` method changes the shape of an array, while keeping the individual elements and their order:"
   ]
  },
  {
   "cell_type": "code",
   "execution_count": 13,
   "metadata": {},
   "outputs": [
    {
     "name": "stdout",
     "output_type": "stream",
     "text": [
      "[[1 2]\n",
      " [3 4]\n",
      " [5 6]]\n"
     ]
    }
   ],
   "source": [
    "from numpy import array\n",
    "x = array([1,2,3,4,5,6])\n",
    "y = x.reshape(3,2)\n",
    "print(y)"
   ]
  },
  {
   "cell_type": "markdown",
   "metadata": {},
   "source": [
    "A very useful feature of `reshape` is that you can make one argument equal to -1; then that dimension will simply be whatever size is necessary to accommodate the rest of the array. For instance, here we say that we want two columns and however many rows are needed:"
   ]
  },
  {
   "cell_type": "code",
   "execution_count": 14,
   "metadata": {},
   "outputs": [
    {
     "name": "stdout",
     "output_type": "stream",
     "text": [
      "[[1 2]\n",
      " [3 4]\n",
      " [5 6]]\n"
     ]
    }
   ],
   "source": [
    "x = array([1,2,3,4,5,6])\n",
    "y = x.reshape(-1,2)\n",
    "print(y)"
   ]
  },
  {
   "cell_type": "markdown",
   "metadata": {},
   "source": [
    "Second, the `sum` method by default adds up every number in an array, but can be restricted to do so along a particular axis:"
   ]
  },
  {
   "cell_type": "code",
   "execution_count": 15,
   "metadata": {},
   "outputs": [
    {
     "name": "stdout",
     "output_type": "stream",
     "text": [
      "[[1 2]\n",
      " [3 4]\n",
      " [5 6]]\n",
      "Sum all:\n",
      "21\n"
     ]
    }
   ],
   "source": [
    "print(y)\n",
    "print(\"Sum all:\")\n",
    "print(y.sum())"
   ]
  },
  {
   "cell_type": "code",
   "execution_count": 16,
   "metadata": {},
   "outputs": [
    {
     "name": "stdout",
     "output_type": "stream",
     "text": [
      "[[1 2]\n",
      " [3 4]\n",
      " [5 6]]\n",
      "Sum along columns:\n",
      "[ 9 12]\n"
     ]
    }
   ],
   "source": [
    "print(y)\n",
    "print(\"Sum along columns:\")\n",
    "print(y.sum(axis=0))"
   ]
  },
  {
   "cell_type": "code",
   "execution_count": 17,
   "metadata": {},
   "outputs": [
    {
     "name": "stdout",
     "output_type": "stream",
     "text": [
      "[[1 2]\n",
      " [3 4]\n",
      " [5 6]]\n",
      "Sum along rows:\n",
      "[ 3  7 11]\n"
     ]
    }
   ],
   "source": [
    "print(y)\n",
    "print(\"Sum along rows:\")\n",
    "print(y.sum(axis=1))"
   ]
  },
  {
   "cell_type": "markdown",
   "metadata": {},
   "source": [
    "## Monte Carlo integration\n",
    "\n",
    "Random numbers can be used to estimate integrals that are difficult to evaluate via other methods.  These methods are often referred to as *Monte Carlo* methods after the famous casino.  \n",
    "\n",
    "Say we want to evaluate the integral\n",
    "$$\n",
    "I = \\int_a^bf(x)dx.\n",
    "$$\n",
    "The average of $f(x)$ over the range  from $a$ to $b$ is then by definition\n",
    "$$\n",
    "\\langle f \\rangle = \\frac{1}{b-a} \\int_a^b f(x) dx = \\frac{I}{b-a}\n",
    "$$\n",
    "or alternatively\n",
    "$$\n",
    "I = (b-a) \\langle f \\rangle.\n",
    "$$\n",
    "\n",
    "So, if we can compute $\\langle f \\rangle$, then we can evaluate the integral!\n",
    "\n",
    "\n",
    "We then estimate the mean value of the function by sampling $x$ at a series of points ($x_i$ where $i=1,\\ldots,N $) and then taking the average.  That is $\\langle f \\rangle \\simeq \\frac{1}{N} \\sum_{i=1}^N f(x_i)$.\n",
    "\n",
    "Then the integral is simply approximated as\n",
    "$$\n",
    "I \\simeq \\frac{b-a}{N}\\sum_{i=1}^N f(x_i)\n",
    "$$\n",
    "\n",
    "Since we've calculated the value of the integral from the mean value,  the error in the method is the standard deviation of the mean.  Or,\n",
    "$$\n",
    "\\sigma = (b-a) \\frac{\\sqrt{\\sqrt{\\langle f^2\\rangle}-\\sqrt{\\langle f\\rangle}}}{\\sqrt{N}}\n",
    "$$\n",
    "and the error is proportional to $1/\\sqrt{N}$.  If we think of the *effective step size* of this method $h\\sim (b-a)/N$ then the error is propotional to $h^{1/2}$.  *NOT GOOD*, and much worse than Trapezoid rule $\\mathcal{O}(h^2)$, or Simpson's rule $\\mathcal{O}(h^4)$.\n",
    "\n",
    "So we use this approach only when other methods run into problems.  Two examples include pathological functions and integrals in high numbers of dimensions (applications include,   integrating wavefunctions for each electron of an atom with many electrons, as well as calculations in statistical mechanics).\n",
    "\n",
    "\n",
    "### A Simple Example ###\n",
    "\n",
    "We’ll start by evaluating a very simple integral, to which we know the answer:\n",
    "$$\n",
    "\\int_0^1x^2\\,\\mathrm dx  = \\tfrac13.\n",
    "$$\n",
    "\n",
    "The way to do this by the Monte Carlo method is to take random points inside the integration boundaries, here $0\\leq x \\leq 1$. We then take the average of the function to be integrated, evaluated at each of these points.\n"
   ]
  },
  {
   "cell_type": "markdown",
   "metadata": {},
   "source": [
    "Use the `random_sample()` function to **generate 100 numbers between 0 and 1**. *Hint:* you will need to use the `size` argument; consult the documentation if necessary to see how this works."
   ]
  },
  {
   "cell_type": "code",
   "execution_count": 18,
   "metadata": {
    "scrolled": true
   },
   "outputs": [],
   "source": [
    "import numpy as np\n",
    "random_sample\n",
    "random_input = random_sample((100))"
   ]
  },
  {
   "cell_type": "markdown",
   "metadata": {},
   "source": [
    "Since we are integrating $x^2$, **square these numbers**. Then **calculate the average**. How close is your answer to the expected value?"
   ]
  },
  {
   "cell_type": "code",
   "execution_count": 19,
   "metadata": {},
   "outputs": [
    {
     "data": {
      "text/plain": [
       "0.35684038676812896"
      ]
     },
     "execution_count": 19,
     "metadata": {},
     "output_type": "execute_result"
    }
   ],
   "source": [
    "random_input = random_sample((100))\n",
    "random_xpower2 = random_input * random_input\n",
    "def mean(numbers):\n",
    "    return float(sum(numbers)) / max(len(numbers), 1)\n",
    "mean(random_xpower2)\n",
    "# Very close to the value given in the above text, 1/3"
   ]
  },
  {
   "cell_type": "markdown",
   "metadata": {},
   "source": [
    "▶ **CHECKPOINT 2**"
   ]
  },
  {
   "cell_type": "markdown",
   "metadata": {},
   "source": [
    "### Integrals in many dimensions ###\n",
    "\n",
    "The following 21-dimensional integral looks forbidding, but it can be tackled in exactly the same way:\n",
    "$$\n",
    "\\int_0^1\\cdots\\int_0^1\\big(x_1 + x_2 + x_3 + \\cdots + x_{21}\\big)^2\\,\\mathrm dx_1 \\dots \\mathrm dx_{21}.\n",
    "$$\n",
    "Its value turns out to be exactly equal to 112 (this is not such a difficult thing to prove if you would like to have a go!). \n",
    "\n",
    "Here the integration boundaries are a hypercube where $x_1$, $x_2$, etc. all take values between 0 and 1. We need to take the average of the function to be integrated, \n",
    "$$\n",
    "f(x_1,x_2,,\\ldots,x_{21})=(x_1 + x_2 + x_3 + \\cdots + x_{21})^2,\n",
    "$$ \n",
    "evaluated at each of these points.\n",
    "\n",
    "Then we do this repeatedly to compute an average value of the function $\\langle f \\rangle$.\n",
    "\n",
    "**Write a bit of code to evaluate this integral**\n",
    "\n",
    "There are many ways to do this and you can proceed as you wish.  Below is a recipe that employs reshaping numpy arrays.\n"
   ]
  },
  {
   "cell_type": "markdown",
   "metadata": {},
   "source": [
    "The following will compute the value of the 21-dimensional function $f$ ten times.\n",
    "- Use the `random_sample()` function to **generate 210 numbers between 0 and 1**. \n",
    "- Use `reshape` to **change this into an array with 21 columns** (and therefore ten rows), which we will interpret as a set of ten points in 21-dimensional space.\n",
    "\n",
    "- Use `sum` to **calculate $(x_1 + x_2 + x_3 + \\cdots + x_{21})^2$ at each point**: your result should be an array of 10 values, one for each point.\n",
    "\n",
    "- **Calculate the average of this array**, which is our Monte Carlo estimate of the integral.  You can use `np.mean()` to find the mean of an array (look at the docs)."
   ]
  },
  {
   "cell_type": "code",
   "execution_count": 20,
   "metadata": {},
   "outputs": [
    {
     "name": "stdout",
     "output_type": "stream",
     "text": [
      "118.50371396668024\n"
     ]
    }
   ],
   "source": [
    "random_input2 = random_sample(210)\n",
    "#print(sum(random_input2))\n",
    "random_input2 = random_input2.reshape(-1,21)\n",
    "aggregate = []\n",
    "for i in random_input2:\n",
    "    aggregate.append(sum(i)*sum(i))\n",
    "    \n",
    "mean = np.mean(aggregate)\n",
    "#sum(random_x2_power2)\n",
    "#? Not even close\n",
    "print(mean)"
   ]
  },
  {
   "cell_type": "markdown",
   "metadata": {},
   "source": [
    "**Repeat your calculation** with more data points. **Plot the relative error in the integral** as a function of the number of data points, on a log-log scale. Are your results consistent with the theoretical result that the error should scale with $1/\\sqrt{N}$?  \n",
    "\n",
    "*Note* for large numbers of points ($\\gtrsim10^6$) these calculations can take some time. \n"
   ]
  },
  {
   "cell_type": "code",
   "execution_count": 25,
   "metadata": {},
   "outputs": [
    {
     "name": "stdout",
     "output_type": "stream",
     "text": [
      "10000\n"
     ]
    },
    {
     "data": {
      "text/plain": [
       "[<matplotlib.lines.Line2D at 0x7e9bdeada0>]"
      ]
     },
     "execution_count": 25,
     "metadata": {},
     "output_type": "execute_result"
    },
    {
     "data": {
      "image/png": "[encoded data removed]",
      "text/plain": [
       "<Figure size 432x288 with 1 Axes>"
      ]
     },
     "metadata": {
      "needs_background": "light"
     },
     "output_type": "display_data"
    }
   ],
   "source": [
    "from pylab import loglog, logspace, subplot, xlim\n",
    "random_input3 = random_sample((210000))\n",
    "random_input3 = random_input3.reshape(-1,21)\n",
    "error = []\n",
    "expected_errors = []\n",
    "n = 0\n",
    "for i in random_input3:\n",
    "    n+=1\n",
    "    x2 = np.mean(sum(i)*sum(i))\n",
    "    error.append(abs((112 - x2)/112)/n)\n",
    "    \n",
    "for i in range(1,len(random_input3) +1):\n",
    "    expected_error = 1/np.sqrt(i)\n",
    "    expected_errors.append(expected_error)\n",
    "print(n)\n",
    "loglog(np.linspace(1,len(random_input3), len(random_input3)), error, 'k')\n",
    "loglog(np.linspace(1,len(random_input3), len(random_input3)), expected_errors, 'r' )\n"
   ]
  },
  {
   "cell_type": "markdown",
   "metadata": {},
   "source": [
    "**Evaluate the error** of a calculation with $N=21\\times10^5$ (i.e., $10^5$ function evaluations of the 21-dimensional function $f$). If you tried to do a trapezoid rule calculation with approximately the same number of points, where would you end up evaluating the function? Can you see why the Monte Carlo method will almost certainly give a better result?"
   ]
  },
  {
   "cell_type": "code",
   "execution_count": 22,
   "metadata": {
    "scrolled": true
   },
   "outputs": [
    {
     "data": {
      "text/plain": [
       "(3.4642568998098523e-09, 0.08453015300167742)"
      ]
     },
     "execution_count": 22,
     "metadata": {},
     "output_type": "execute_result"
    }
   ],
   "source": [
    "min(error), max(error)"
   ]
  },
  {
   "cell_type": "markdown",
   "metadata": {},
   "source": []
  },
  {
   "cell_type": "markdown",
   "metadata": {},
   "source": [
    "▶ **CHECKPOINT 3**"
   ]
  },
  {
   "cell_type": "markdown",
   "metadata": {},
   "source": [
    "(*Extension:* actually evaluate the trapezoid-rule value. You might want to talk to a demonstrator about how to generate the required points; I used the `product` function from the `itertools` module.)"
   ]
  },
  {
   "cell_type": "markdown",
   "metadata": {},
   "source": [
    "LaTex: alpha**2"
   ]
  }
 ],
 "metadata": {
  "kernelspec": {
   "display_name": "Python 3",
   "language": "python",
   "name": "python3"
  },
  "language_info": {
   "codemirror_mode": {
    "name": "ipython",
    "version": 3
   },
   "file_extension": ".py",
   "mimetype": "text/x-python",
   "name": "python",
   "nbconvert_exporter": "python",
   "pygments_lexer": "ipython3",
   "version": "3.7.1"
  }
 },
 "nbformat": 4,
 "nbformat_minor": 2
}
