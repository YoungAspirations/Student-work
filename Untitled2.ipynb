{
 "cells": [
  {
   "cell_type": "code",
   "execution_count": null,
   "metadata": {
    "scrolled": true
   },
   "outputs": [
    {
     "name": "stdout",
     "output_type": "stream",
     "text": [
      "Enter start interval time (YYYY/MM/DD HH:MM:SS): \n",
      "2017/09/10 15:00:00\n",
      "Enter end interval time (YYYY/MM/DD HH:MM:SS): \n",
      "2017/09/10 16:00:00\n",
      "Results from 1 Provider:\n",
      "\n",
      "5 Results from the VSOClient:\n",
      "   Start Time [1]       End Time [1]    Source ...   Type    Wavelength [2] \n",
      "                                               ...              Angstrom    \n",
      "       str19               str19         str3  ...   str8       float64     \n",
      "------------------- ------------------- ------ ... -------- ----------------\n",
      "2017-09-10 15:24:33 2017-09-10 15:24:34    SDO ... FULLDISK 6173.0 .. 6174.0\n",
      "2017-09-10 15:36:33 2017-09-10 15:36:34    SDO ... FULLDISK 6173.0 .. 6174.0\n",
      "2017-09-10 15:48:33 2017-09-10 15:48:34    SDO ... FULLDISK 6173.0 .. 6174.0\n",
      "2017-09-10 15:00:33 2017-09-10 15:00:34    SDO ... FULLDISK 6173.0 .. 6174.0\n",
      "2017-09-10 15:12:33 2017-09-10 15:12:34    SDO ... FULLDISK 6173.0 .. 6174.0\n",
      "\n",
      "\n",
      "Specify row to download: \n",
      "1\n",
      "Results from 1 Provider:\n",
      "\n",
      "1 Results from the VSOClient:\n",
      "   Start Time [1]       End Time [1]    Source ...   Type    Wavelength [2] \n",
      "                                               ...              Angstrom    \n",
      "       str19               str19         str3  ...   str8       float64     \n",
      "------------------- ------------------- ------ ... -------- ----------------\n",
      "2017-09-10 15:24:33 2017-09-10 15:24:34    SDO ... FULLDISK 6173.0 .. 6174.0\n",
      "\n",
      "\n"
     ]
    },
    {
     "name": "stderr",
     "output_type": "stream",
     "text": [
      "Files Downloaded: 100%|████████████████████████████████████████████████████████████████| 1/1 [00:02<00:00,  2.13s/file]\n"
     ]
    },
    {
     "name": "stdout",
     "output_type": "stream",
     "text": [
      "Visualize HMI Data? (Y/N)\n",
      "N\n",
      "Crop and plot region? (Y/N)\n",
      "Y\n",
      "Enter Region Crop Size: 100\n"
     ]
    }
   ],
   "source": [
    "#!/opt/anaconda3/bin/python \n",
    "import matplotlib.pyplot as plt\n",
    "import sunpy.map\n",
    "import numpy as np\n",
    "import sunpy.io.fits\n",
    "from sunpy.net import Fido, attrs as look\n",
    "from astropy import units as u\n",
    "from astropy.coordinates import SkyCoord\n",
    "\n",
    "import warnings\n",
    "warnings.filterwarnings(\"ignore\")\n",
    "\n",
    "def FIND_HMI(directory=0,Local=False):\n",
    "    \"\"\" Function that uses Python Librar\u0001y Sunpy to retrieve HMI data. Takes input of Time_interval\n",
    "    with format (YYYY/MM/DD HH:MM:SS): as np.array([start, finish]) and requests region of\n",
    "    interest for selected HMI data as region = np.array([length,x0,y0])\n",
    "\n",
    "    Returns three sunpy.map objects: full scale magnetogram, cropped region and resampled region.\n",
    "    Data values for maps can be retrieved using .data after return variable i.e. hmi_file.data\n",
    "    \"\"\"\n",
    "    print(\"Enter start interval time (YYYY/MM/DD HH:MM:SS): \")\n",
    "    start_time = str(input())\n",
    "    print(\"Enter end interval time (YYYY/MM/DD HH:MM:SS): \")\n",
    "    end_time = str(input())\n",
    "    if Local == False:\n",
    "        result = Fido.search(look.Time(start_time, end_time),\n",
    "                             look.Instrument('hmi'),\n",
    "                             look.Sample(720 * u.s),\n",
    "                             look.vso.Physobs('LOS_magnetic_field'))\n",
    "        print(result[0,:])\n",
    "        print(\"Specify row to download: \")\n",
    "        row = int(int(input())-1)\n",
    "        print(result[0, row])\n",
    "        downloaded_file = Fido.fetch(result[0, row])\n",
    "\n",
    "\n",
    "    if Local == True:\n",
    "        downloaded_file= directory\n",
    "\n",
    "    hmi_map = sunpy.map.Map(downloaded_file)\n",
    "\n",
    "    print(\"Visualize HMI Data? (Y/N)\")\n",
    "    Plot1 = str(input())\n",
    "    if Plot1 ==\"Y\":\n",
    "        hmi_map.peek()\n",
    "    else:\n",
    "        pass\n",
    "    print(\"Crop and plot region? (Y/N)\")\n",
    "    Crop = str(input())\n",
    "\n",
    "    if Crop == \"Y\":\n",
    "        # REGION UNPACKING\n",
    "        length = int(input(\"Enter Region Crop Size: \")) * u.arcsec\n",
    "        x0 = int(input(\"X Centre: \")) * u.arcsec\n",
    "        y0 = int(input(\"Y Centre: \")) * u.arcsec\n",
    "        resample_dim = int(input(\"Resample Dimension: \"))\n",
    "\n",
    "        # SunPy HMI Submap\n",
    "        bottom_left = SkyCoord(x0 - length, y0 - length, frame=hmi_map.coordinate_frame)\n",
    "        top_right = SkyCoord(x0 + length, y0 + length, frame=hmi_map.coordinate_frame)\n",
    "        hmi_submap = hmi_map.submap(bottom_left, top_right)\n",
    "\n",
    "        # Resample of HMI map\n",
    "        shape = u.Quantity([resample_dim, resample_dim] * u.pixel)\n",
    "        hmi_resampled = hmi_submap.resample(shape, method='linear')\n",
    "\n",
    "        # Plotting data gathered\n",
    "\n",
    "        #Plot 1: Data\n",
    "        fig = plt.figure(figsize=(16, 5))\n",
    "        ax1 = fig.add_subplot(1, 3, 1, projection=hmi_map)\n",
    "        hmi_map.plot()\n",
    "        hmi_map.draw_rectangle(bottom_left, length * 2, length * 2) # Draw hmi_submap region on Plot 1\n",
    "\n",
    "        # Plot 2: Submap region\n",
    "        ax2 = fig.add_subplot(1, 3, 2, projection=hmi_submap)\n",
    "        hmi_submap.plot()\n",
    "        ax2.set_title('Zoomed Region')\n",
    "\n",
    "        # Plot 3: Resampled Submap\n",
    "        ax3 = fig.add_subplot(1, 3, 3, projection=hmi_submap)\n",
    "        ax3.set_title('Resample Data')\n",
    "        hmi_resampled.plot()\n",
    "        plt.tight_layout(pad=7.0, w_pad=6.0)\n",
    "        plt.show()\n",
    "\n",
    "        np.savetxt(str(input(\"File name: \")+\".txt\"),hmi_resampled.data)\n",
    "        return hmi_map,hmi_submap,hmi_resampled\n",
    "\n",
    "    else:\n",
    "        np.savetxt(str(input(\"File name: \")+\".txt\"),hmi_map.data,fmt='%f')\n",
    "        return hmi_map\n",
    "\n",
    "\n",
    "#### ---- EXAMPLE CODE RETRIEVING DATA FROM VSO ---- #####\n",
    "#Test Retrieving data for a given Time interval and a specified region\n",
    "#time_interval = np.array(['2011/02/14 20:34:00','2011/02/14 21:00:00'])\n",
    "#region = np.array([100,170,-230])\n",
    "#DATA = FIND_HMI()\n",
    "FIND_HMI()\n"
   ]
  },
  {
   "cell_type": "code",
   "execution_count": 2,
   "metadata": {
    "scrolled": false
   },
   "outputs": [
    {
     "name": "stdout",
     "output_type": "stream",
     "text": [
      "Object `fmt` not found.\n"
     ]
    }
   ],
   "source": [
    "?fmt"
   ]
  },
  {
   "cell_type": "code",
   "execution_count": null,
   "metadata": {},
   "outputs": [],
   "source": []
  }
 ],
 "metadata": {
  "kernelspec": {
   "display_name": "Python 3",
   "language": "python",
   "name": "python3"
  },
  "language_info": {
   "codemirror_mode": {
    "name": "ipython",
    "version": 3
   },
   "file_extension": ".py",
   "mimetype": "text/x-python",
   "name": "python",
   "nbconvert_exporter": "python",
   "pygments_lexer": "ipython3",
   "version": "3.7.6"
  }
 },
 "nbformat": 4,
 "nbformat_minor": 2
}
