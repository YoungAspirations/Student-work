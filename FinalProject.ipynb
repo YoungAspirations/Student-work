{
 "cells": [
  {
   "cell_type": "markdown",
   "metadata": {},
   "source": [
    "Christopher Jason Pierre-Samuel\n",
    "\n",
    "School of Physics and Astronomy, Queen Mary University of London\n",
    ", Mile End Rd, Bethnal Green, London E1 4NS"
   ]
  },
  {
   "cell_type": "markdown",
   "metadata": {},
   "source": [
    "## Analysing the efficacy of built-in Python functions and constructed algorithms within various mathematical cases"
   ]
  },
  {
   "cell_type": "markdown",
   "metadata": {},
   "source": [
    "## Introduction"
   ]
  },
  {
   "cell_type": "markdown",
   "metadata": {},
   "source": [
    "The following report aims to analyse the variance between built-in functions and constructed algorithms with respect to time, accuracy and applicability. Observing the limitations and benefits of said methods with regards to mathematical problems in order to communicate the more effective approach to solve it. Followed by a discussion on why the results may have occurred, in addition to, stating recommendations on how improvements may be incorporated.  Concluding on a consensus on when techniques should be incorporated. This is important because an understanding of the topic may have potential to limit approaches and increase efficiency of calculations."
   ]
  },
  {
   "cell_type": "markdown",
   "metadata": {},
   "source": [
    "## Methods"
   ]
  },
  {
   "cell_type": "code",
   "execution_count": 1,
   "metadata": {},
   "outputs": [],
   "source": [
    "from numpy import pi, sin, cos, exp, logspace, vectorize, linspace, sqrt \n",
    "from pylab import plot, grid, xlim, ylim, loglog, xlabel, ylabel, title, legend, linalg, array \n",
    "from scipy import optimize\n",
    "from scipy.integrate import quad, simps \n",
    "import timeit, matplotlib.pyplot as plt "
   ]
  },
  {
   "cell_type": "markdown",
   "metadata": {},
   "source": [
    "From the start of the investigation functions all the functions were imported from; numpy, pylab, scipy, scipy.integrate, matplotlib, in addition to, timeit. The functions would be used to carry out calculation of values or parameterise diagrams that can be found in the results section. This was done to reduce repeated code.   "
   ]
  },
  {
   "cell_type": "code",
   "execution_count": 2,
   "metadata": {},
   "outputs": [],
   "source": [
    "my_list = ['a', 'b', 'a', 'a', 'c']\n",
    "my_set = set(my_list)"
   ]
  },
  {
   "cell_type": "markdown",
   "metadata": {},
   "source": [
    "Following on, a test was implemented to see how long it would take to locate the string ‘c’ in the list, my_list, and the set of my_list, my_set. Using timeit [1] on each produced a time for each process to complete. "
   ]
  },
  {
   "cell_type": "code",
   "execution_count": 3,
   "metadata": {},
   "outputs": [],
   "source": [
    "start1 = timeit.default_timer()\n",
    "def sine_sum(x):\n",
    "    a = x\n",
    "    s = a  \n",
    "    for i in range(2,100):\n",
    "        a *= ( -x**2 )/ ((((2 * i) - 1) * ((2 * i) - 2)))\n",
    "        s += a\n",
    "    return s\n",
    "end1 = timeit.default_timer()"
   ]
  },
  {
   "cell_type": "markdown",
   "metadata": {},
   "source": [
    "Next,  the recursive relation $$\n",
    "t_{n} = t_{n-1} \\times \\frac{-x^2}{(2n - 1)(2n - 2)}.\n",
    "$$ is used to defined to calculate a value of sin in the above code. Also, the function has timeit.default_timer() at the start and end of the function where the difference is taken to get an approximate time elapsed."
   ]
  },
  {
   "cell_type": "code",
   "execution_count": 4,
   "metadata": {},
   "outputs": [],
   "source": [
    "sine_sum = vectorize(sine_sum)\n",
    "x = linspace(1,40,1000) # choose some appropriate values here\n",
    "y_series = sine_sum(x)\n",
    "y_library = sin(x)"
   ]
  },
  {
   "cell_type": "markdown",
   "metadata": {},
   "source": [
    "Using the above defined function, It was vectorised to make it cope with array arguments. A range of x from 1 to 40 with 1000 steps was created using linspace and was used to prepare y values for the recursive relation (sine_sum) and the built in function sin from numpy. They were plotted with both x,y axis’ limited."
   ]
  },
  {
   "cell_type": "code",
   "execution_count": 5,
   "metadata": {},
   "outputs": [],
   "source": [
    "def FD(f, x, h):\n",
    "    \"\"\"Docstring goes here\"\"\"\n",
    "    a = f(x + h)\n",
    "    b = f(x)\n",
    "    c = (a - b) / h\n",
    "    return c \n",
    "\n",
    "def CD(f, x, h):\n",
    "    a = f(x + 0.5 * h)\n",
    "    b = f(x - 0.5 * h)\n",
    "    c = (a - b) / h\n",
    "    return c\n",
    "\n",
    "def ED(f, x, h):\n",
    "    a = 4 * CD(f, x, h/2)\n",
    "    b = CD(f, x,  h)\n",
    "    c = (a - b)/3\n",
    "    return c"
   ]
  },
  {
   "cell_type": "markdown",
   "metadata": {},
   "source": [
    "Moving on, numerical differentiation methods are defined for forward, central and extrapolated differences. They were compared in the results to discern which method gave the most accurate and fastest result."
   ]
  },
  {
   "cell_type": "code",
   "execution_count": 6,
   "metadata": {},
   "outputs": [],
   "source": [
    "test_f = cos   # choose an appropriate function here\n",
    "x0 = 0.1       # where will we evaluate this function?\n",
    "fx0p = -sin(x0)     # put the true value of the derivative of test_f at x0 here\n",
    "\n",
    "hh = logspace(-1, -17, 17) # same syntax as linspace: this gives us a range from 10^-1 to 10^-17 with 17 points.\n",
    "\n",
    "fd_errors = []\n",
    "cd_errors = []\n",
    "ed_errors = []\n",
    "# We will collect the epsilon values for the FD method in this list. \n",
    "# You may like to set up similar lists for other methods.\n",
    "\n",
    "for h in hh:\n",
    "    fd_estimate = FD(test_f, x0, h)\n",
    "    cd_estimate = CD(test_f, x0, h)\n",
    "    ed_estimate = ED(test_f, x0, h) # calculate the estimated derivative with the FD method here.\n",
    "    # And perhaps for other methods...\n",
    "    \n",
    "    fd_error = (fd_estimate - fx0p)/fx0p\n",
    "    cd_error = (cd_estimate - fx0p)/fx0p  \n",
    "    ed_error = (ed_estimate - fx0p)/fx0p\n",
    "    #... # calculate epsilon for the FD method here.\n",
    "    # And perhaps for other methods...\n",
    "    \n",
    "    fd_errors.append(abs(fd_error))\n",
    "    cd_errors.append(abs(cd_error))\n",
    "    ed_errors.append(abs(ed_error))\n",
    "    # We append the absolute value of epsilon to our list of errors."
   ]
  },
  {
   "cell_type": "markdown",
   "metadata": {},
   "source": [
    "The next step was to calculate the error $\\epsilon$ in each of the method by calculation of the approximate value, and determinining the percentage error. Then the absolute percentage error was appended to their respective list."
   ]
  },
  {
   "cell_type": "code",
   "execution_count": 7,
   "metadata": {},
   "outputs": [],
   "source": [
    "#Root finding (1) Bisection\n",
    "def bisection_step(f, bounds):\n",
    "    lower, upper = bounds      # \"Unpack\" the tuple so that we can manipulate the lower and upper bound separately\n",
    "    middle = (lower + upper)/2 # Calculate the midpoint\n",
    "    \n",
    "    if f(lower) * f(middle) < 0: # We want this code to run if f(l) and f(m) have opposite signs. Fill in the condition here\n",
    "        return (lower, middle)\n",
    "    else:\n",
    "        return (middle, upper) # Fill in an appropriate return value here if the condition is false\n",
    "    \n",
    "def regula_falsi_step(f, bounds):\n",
    "    lower, upper = bounds\n",
    "    midpoint = ((lower * f(upper)) - (upper * f(lower))) / (f(upper) - f(lower)) #?\n",
    "    if  f(lower) * f(midpoint) < 0:\n",
    "        return (lower, midpoint)\n",
    "    else:\n",
    "        return (midpoint, upper)\n",
    "\n",
    "def newton_step(f, fp, x0):\n",
    "    x1 = x0 - (f(x0) / fp(x0))\n",
    "    return x1"
   ]
  },
  {
   "cell_type": "markdown",
   "metadata": {},
   "source": [
    "The above code defines the bisection, regular falsi, and newton step methods of root finding with each of their respective equations for the latter two: $$\n",
    "m = \\frac{lf(u) - uf(l)}{f(u)-f(l)}:\n",
    "$$\n",
    "\n",
    "$$\n",
    "x_{n+1} = x_n - \\frac{f(x_n)}{f'(x_n)}.\n",
    "$$\n"
   ]
  },
  {
   "cell_type": "code",
   "execution_count": 8,
   "metadata": {},
   "outputs": [],
   "source": [
    "def trapezoid(d, h):\n",
    "    d = array(d)\n",
    "    w = array([0.5] + (len(d)-2)*[1] +[0.5])\n",
    "    return h*sum(d*w)\n",
    "\n",
    "def simpson(d, h):\n",
    "    if len(d)%2 != 1:\n",
    "        return None\n",
    "    d = array(d)\n",
    "    w = (1/3)*array([1]  + (int((len(d)-3)/2)) * [4,2] + [4,1])\n",
    "    return h * sum(d*w)"
   ]
  },
  {
   "cell_type": "markdown",
   "metadata": {},
   "source": [
    "The next topic of interest was integration. Both the trapezoid and simpson methods were compared to display their precision. In addition the built-in python function was also used to determine the simpsons value "
   ]
  },
  {
   "cell_type": "code",
   "execution_count": 9,
   "metadata": {},
   "outputs": [
    {
     "name": "stderr",
     "output_type": "stream",
     "text": [
      "C:\\Users\\CPier\\Anaconda3\\lib\\site-packages\\ipykernel_launcher.py:5: DeprecationWarning: object of type <class 'numpy.float64'> cannot be safely interpreted as an integer.\n",
      "  \"\"\"\n",
      "C:\\Users\\CPier\\Anaconda3\\lib\\site-packages\\ipykernel_launcher.py:11: DeprecationWarning: object of type <class 'numpy.float64'> cannot be safely interpreted as an integer.\n",
      "  # This is added back by InteractiveShellApp.init_path()\n"
     ]
    }
   ],
   "source": [
    "trap_error = []\n",
    "simp_error = []\n",
    "\n",
    "for n in logspace(1,7,7):\n",
    "    x = linspace(0, pi/2, n)\n",
    "    y = cos(x)\n",
    "    \n",
    "    trap_error_n = abs((trapezoid(y, x[1] - x[0]) - cos(0) ))\n",
    "    trap_error.append(trap_error_n)\n",
    "    \n",
    "    xs = linspace(0, pi/2, n+1)\n",
    "    y = cos(xs)\n",
    "    simp_error_n = abs((simpson(y, xs[1] - xs[0]) - cos(0))) \n",
    "    simp_error.append(simp_error_n)"
   ]
  },
  {
   "cell_type": "markdown",
   "metadata": {},
   "source": [
    "Furthermore, similar to the difference approximation graphs, another algorithm was constructed to calculate the value of error in the trapezoid and simpson method. First an empty list for each variable was created, followed by, a loop to calculate the magnitude of error over the number of steps append those values to a list. The list were later used to a graph to convey the change in error over the number of steps."
   ]
  },
  {
   "cell_type": "code",
   "execution_count": 10,
   "metadata": {},
   "outputs": [],
   "source": [
    "def Gaussian(f,lim):\n",
    "    a, b = lim\n",
    "    x = array([ (a + ((((1/2) + ((1/(2*sqrt(3)))))*(b-a)))),  (a + (((((1/2) - (1/(2*sqrt(3))))*(b-a)))))]) \n",
    "    w = array([1/2, 1/2])\n",
    "    return ((b-a) *sum(w * f(x)))"
   ]
  },
  {
   "cell_type": "markdown",
   "metadata": {},
   "source": [
    "Another more sofisticated method of numerical integration was the Gaussian quadrature as defined above. It was also used to calculate the approximate integral. Plus, the built-in quad function [4] was used to get an answer."
   ]
  },
  {
   "cell_type": "code",
   "execution_count": 11,
   "metadata": {},
   "outputs": [],
   "source": [
    "k = 1. \n",
    "m = 1.\n",
    "\n",
    "def derivative_harmonic(t, x):\n",
    "    x0, x1 = x\n",
    "    dx0 =  x1\n",
    "    dx1 = (-k/m) * x0\n",
    "    return array((dx0, dx1))"
   ]
  },
  {
   "cell_type": "markdown",
   "metadata": {},
   "source": [
    "This cell defines the derivative of a harmonic of the equations \n",
    "$$\n",
    "\\begin{align}\n",
    "V(x) &= \\tfrac12 k x^2 \\\\\n",
    "F = m\\frac{\\mathrm d^2x}{\\mathrm dt^2} &= -kx\n",
    "\\end{align}\n",
    "$$\n",
    "\n",
    "Moving on, the next calculations were approximations for harmonic motion, specificially the potential, kinetic and total energy. The processes used the second-order Runge-Kutta method and the Euler equation. The two graphs were compared to illustrate discrepencies between the two. "
   ]
  },
  {
   "cell_type": "markdown",
   "metadata": {},
   "source": [
    "## Results"
   ]
  },
  {
   "cell_type": "code",
   "execution_count": 12,
   "metadata": {},
   "outputs": [
    {
     "name": "stdout",
     "output_type": "stream",
     "text": [
      "95.3 ns ± 0.553 ns per loop (mean ± std. dev. of 7 runs, 10000000 loops each)\n",
      "43.6 ns ± 1.68 ns per loop (mean ± std. dev. of 7 runs, 10000000 loops each)\n"
     ]
    }
   ],
   "source": [
    "%timeit 'c' in my_list\n",
    "%timeit 'c' in my_set"
   ]
  },
  {
   "cell_type": "markdown",
   "metadata": {},
   "source": [
    "$Result$ $1:$ This cell shows how the take that it takes to find the string ‘c’ in my_list and my_set. The result is displayed in that respective order"
   ]
  },
  {
   "cell_type": "code",
   "execution_count": 13,
   "metadata": {},
   "outputs": [
    {
     "name": "stdout",
     "output_type": "stream",
     "text": [
      "756 ns ± 10.3 ns per loop (mean ± std. dev. of 7 runs, 1000000 loops each)\n",
      "1.0\n",
      "9.450000000299497e-05 1.0000000000000002\n",
      "2.220446049250313e-16\n"
     ]
    }
   ],
   "source": [
    "mytime = %timeit -o sin(0.5*pi)\n",
    "print(sin(0.5*pi))\n",
    "print(end1 - start1, sine_sum(0.5*pi))\n",
    "print(abs(sine_sum(0.5*pi) - sin(0.5*pi))/sin(0.5*pi))\n",
    "#Numerical error and timing"
   ]
  },
  {
   "cell_type": "markdown",
   "metadata": {},
   "source": [
    "$Result$ $2:$ This result shows theapproximate time taken and value for the recursive relation calculation to compute the value of $\n",
    "\\sin x$ compared to the built-in function. In addition to the absolute value of error.\n"
   ]
  },
  {
   "cell_type": "code",
   "execution_count": 14,
   "metadata": {},
   "outputs": [
    {
     "data": {
      "text/plain": [
       "<matplotlib.legend.Legend at 0x21accc7f5c0>"
      ]
     },
     "execution_count": 14,
     "metadata": {},
     "output_type": "execute_result"
    },
    {
     "data": {
      "image/png": "[encoded data removed]",
      "text/plain": [
       "<Figure size 432x288 with 1 Axes>"
      ]
     },
     "metadata": {
      "needs_background": "light"
     },
     "output_type": "display_data"
    }
   ],
   "source": [
    "xlabel('step size $h$') # Note that we can include LaTeX-style maths within dollar signs.\n",
    "ylabel('absolute error $|\\epsilon|$')\n",
    "title('Errors in each approximation per step' ) # Include an appropriate string for a graph title here.\n",
    "loglog(logspace(1,7,7), trap_error, 'o-', label=\"Trapezium error\")\n",
    "loglog(logspace(1,7,7), simp_error, 'r-', label=\"Simpson error\")\n",
    "legend()"
   ]
  },
  {
   "cell_type": "markdown",
   "metadata": {},
   "source": [
    "$Figure$ $1:$ This figure shows how the recursive relation diverges from the $sin$ function when it reaches a x value around 35.5. This "
   ]
  },
  {
   "cell_type": "code",
   "execution_count": 15,
   "metadata": {},
   "outputs": [
    {
     "name": "stdout",
     "output_type": "stream",
     "text": [
      "0.9983341664682815 0.1\n",
      "0.9999833334166665 0.01\n",
      "0.9999998333333416 0.001\n",
      "0.9999999983333334 0.0001\n",
      "0.9999999999833332 1e-05\n",
      "0.9999999999998334 1e-06\n",
      "0.9999999999999983 1e-07\n",
      "1.0 1e-08\n",
      "1.0 1e-09\n"
     ]
    }
   ],
   "source": [
    "#Numerical Differentiation, Forward difference\n",
    "for n in range(-1,-10,-1):\n",
    "    h = 10**n\n",
    "    a = FD(sin, 0, h)\n",
    "    print(a, h)"
   ]
  },
  {
   "cell_type": "markdown",
   "metadata": {},
   "source": [
    "$Result$ $3:$ This cells displays the forward difference values calculated of $Sin(0)$. This method produced the least accurate out of the three but did reach the exact answer given enough steps"
   ]
  },
  {
   "cell_type": "code",
   "execution_count": 16,
   "metadata": {},
   "outputs": [
    {
     "name": "stdout",
     "output_type": "stream",
     "text": [
      "0.9995833854135666 0.1\n",
      "0.9999958333385416 0.01\n",
      "0.9999999583333338 0.001\n",
      "0.9999999995833334 0.0001\n",
      "0.9999999999958332 1e-05\n",
      "0.9999999999999583 1e-06\n",
      "0.9999999999999996 1e-07\n",
      "1.0 1e-08\n",
      "1.0 1e-09\n"
     ]
    }
   ],
   "source": [
    "#Numerical Differentiation, Central difference\n",
    "for n in range(-1,-10,-1):\n",
    "    h = 10**n\n",
    "    a = CD(sin, 0, h)\n",
    "    print(a, h)"
   ]
  },
  {
   "cell_type": "markdown",
   "metadata": {},
   "source": [
    "$Result$ $4:$ This cells displays the central difference calculation of $Sin(0)$. It was in the middle in terms of accuracy. "
   ]
  },
  {
   "cell_type": "code",
   "execution_count": 17,
   "metadata": {},
   "outputs": [
    {
     "name": "stdout",
     "output_type": "stream",
     "text": [
      "0.9999999869801354 0.1\n",
      "0.9999999999986979 0.01\n",
      "0.9999999999999999 0.001\n",
      "1.0 0.0001\n",
      "1.0 1e-05\n",
      "1.0000000000000002 1e-06\n",
      "1.0 1e-07\n",
      "1.0 1e-08\n",
      "1.0 1e-09\n"
     ]
    }
   ],
   "source": [
    "#Numerical Differentiation, Forward difference\n",
    "for n in range(-1,-10,-1):\n",
    "    h = 10**n\n",
    "    a = ED(sin, 0, h)\n",
    "    print(a, h)"
   ]
  },
  {
   "cell_type": "markdown",
   "metadata": {},
   "source": [
    "$Result$ $5:$ This cells displays the extrapolated difference results of $Sin(0)$ This method produces the most accurate results the fastest. This is due to the complexity of the function. However, this method will take the most time as it has the most calculations.   "
   ]
  },
  {
   "cell_type": "code",
   "execution_count": 18,
   "metadata": {},
   "outputs": [
    {
     "name": "stdout",
     "output_type": "stream",
     "text": [
      "6.490000000525242e-05 0.9983341664682815\n",
      "7.64999999987026e-05 0.9995833854135666\n",
      "4.99999999945544e-05 0.9999999869801354\n",
      "1.0\n"
     ]
    }
   ],
   "source": [
    "start_FD = timeit.default_timer()\n",
    "FD(sin, 0, 0.1)\n",
    "end_FD = timeit.default_timer()\n",
    "\n",
    "start_CD = timeit.default_timer()\n",
    "CD(sin, 0, 0.1)\n",
    "end_CD = timeit.default_timer()\n",
    "\n",
    "start_ED = timeit.default_timer()\n",
    "ED(sin, 0, 0.1)\n",
    "end_ED = timeit.default_timer()\n",
    "\n",
    "print(end_FD-start_FD, FD(sin, 0, 0.1))\n",
    "print(end_CD-start_CD, CD(sin, 0, 0.1))\n",
    "print(end_ED-start_ED, ED(sin, 0, 0.1))\n",
    "print(cos(0)) # The derivative of sin is cos and it is evaluated at 0"
   ]
  },
  {
   "cell_type": "markdown",
   "metadata": {},
   "source": [
    "$Result$ $6:$ The above result shows the time [1] each numerical differentiation method takes to complete computation with the calculated value beside it, with the explicit derivative at the bottom for comparison."
   ]
  },
  {
   "cell_type": "code",
   "execution_count": 19,
   "metadata": {},
   "outputs": [
    {
     "data": {
      "text/plain": [
       "<matplotlib.legend.Legend at 0x21accf4dbe0>"
      ]
     },
     "execution_count": 19,
     "metadata": {},
     "output_type": "execute_result"
    },
    {
     "data": {
      "image/png": "[encoded data removed]",
      "text/plain": [
       "<Figure size 432x288 with 1 Axes>"
      ]
     },
     "metadata": {
      "needs_background": "light"
     },
     "output_type": "display_data"
    }
   ],
   "source": [
    "loglog(hh, fd_errors, 'o-', label=\"FD\")\n",
    "loglog(hh, cd_errors, 'r-', label=\"CD\")\n",
    "loglog(hh, ed_errors, 'b-', label=\"ED\")# Same syntax as plot. The label is used in the legend.\n",
    "xlabel('step size $h$') # Note that we can include LaTeX-style maths within dollar signs.\n",
    "ylabel('absolute error $|\\epsilon|$')\n",
    "title('Errors in each approximation per step' ) # Include an appropriate string for a graph title here.\n",
    "legend() #lab05"
   ]
  },
  {
   "cell_type": "markdown",
   "metadata": {},
   "source": [
    "$Figure$ $2:$ This figure displays the absolute error of calculating approximations using; forward difference, central difference and extrapolated difference with a key displayed in the bottom left corner to identify them. From the graph it can be determined that extrapolated difference produced the lowest errors for fewest steps. "
   ]
  },
  {
   "cell_type": "code",
   "execution_count": 20,
   "metadata": {},
   "outputs": [
    {
     "name": "stdout",
     "output_type": "stream",
     "text": [
      "29 1.9999999925494194\n"
     ]
    }
   ],
   "source": [
    "def f(x):\n",
    "    return x**2 - 4\n",
    "\n",
    "l, u = 0, 5 \n",
    "steps = 0\n",
    "while u - l > 1e-8:\n",
    "    l, u = bisection_step(f, (l, u))\n",
    "    steps += 1\n",
    "print(steps,l) "
   ]
  },
  {
   "cell_type": "markdown",
   "metadata": {},
   "source": [
    "$Result$ $6:$ The code in this cell defines the bisection method to locate a potential root. The function was used in a while loop to get a result that converged to a root where the difference between limits had to less than 1e-8. The result plus amount of steps was printed at the end."
   ]
  },
  {
   "cell_type": "code",
   "execution_count": 21,
   "metadata": {},
   "outputs": [
    {
     "name": "stdout",
     "output_type": "stream",
     "text": [
      "26 1.9999999989169126 5\n"
     ]
    }
   ],
   "source": [
    "lower, upper = 0, 5\n",
    "s = 0\n",
    "while abs(f(lower)) > 1e-8 and abs(f(upper)) > 1e-8:\n",
    "    #regula_falsi_step(f, (lower, upper))\n",
    "    s += 1\n",
    "    lower, upper = regula_falsi_step(f, (lower, upper))\n",
    "print(s, lower, upper) #lab04"
   ]
  },
  {
   "cell_type": "markdown",
   "metadata": {},
   "source": [
    "$Result$ $7:$ The above codeshows an example of the regula-falsi method and produces a potential root in addition to the amount of steps to get within a desired degree of accuracy."
   ]
  },
  {
   "cell_type": "code",
   "execution_count": 22,
   "metadata": {},
   "outputs": [
    {
     "name": "stdout",
     "output_type": "stream",
     "text": [
      "1.4142135623730951 6.210000000095306e-05\n"
     ]
    }
   ],
   "source": [
    "def f(x):                        #A function of x\n",
    "    return x0**2 - 2             \n",
    "def fp(x):                       #Derivative of the function\n",
    "    return 2*x0\n",
    "x0 = 2 \n",
    "s = 0\n",
    "a = newton_step(f, fp, x0)\n",
    "start3 = timeit.default_timer()\n",
    "while abs(x0 - a) > 1e-8:\n",
    "    s += 1\n",
    "    a = x0\n",
    "    x0 = newton_step(f, fp, x0)\n",
    "end3 = timeit.default_timer()\n",
    "print(x0, end3 - start3)"
   ]
  },
  {
   "cell_type": "code",
   "execution_count": 23,
   "metadata": {},
   "outputs": [
    {
     "name": "stdout",
     "output_type": "stream",
     "text": [
      "1.414213562373095\n",
      "1.99 µs ± 91.7 ns per loop (mean ± std. dev. of 7 runs, 100000 loops each)\n"
     ]
    }
   ],
   "source": [
    "print(optimize.newton(f,x0,fp, fprime2 = lambda x: 2)) \n",
    "mytime = %timeit -o optimize.newton(f,x0,fp, fprime2 = lambda x: 2)"
   ]
  },
  {
   "cell_type": "markdown",
   "metadata": {},
   "source": [
    "$Result$ $8:$ This code specifies Newton-Raphson method of linearising a function at a guess to determine a probable root. The built-in function optimize is also used to determine the root value. Next to the printed results are the times taken to complete each task. The built-in function having a speed much faster.  "
   ]
  },
  {
   "cell_type": "markdown",
   "metadata": {},
   "source": [
    "## Solving Roots of $f(x) = x^2 - 2$ with guesses\n",
    "| Initial Guess ($x_o$)  | Number of iterations |  Root Found  | Comment |\n",
    "|----|----|----|----|\n",
    "| 1   |   5  |1.4142135623730951  | Converges to a root in only 5 steps with high precision|\n",
    "| 1e5 |  21   |   1.4142135623730951  |Takes a large amount of iterations when compared to other guesses |\n",
    "|  -1 |   5  |  -1.4142135623730951   | Converges to the negative solution with high precision|\n",
    "| 0  |  unknown   | undefined    | division by 0 so it crashes  |\n",
    "|  1e-5  |  22   |   1.4142135623730951  | Takes a considerable amount for very small values as well|\n"
   ]
  },
  {
   "cell_type": "markdown",
   "metadata": {},
   "source": [
    "$Table$ $1:$ This table shows the result of solutions to the intial guesses to find the root using the Newton-Rhapson method, accompanied with, iterations and a statement."
   ]
  },
  {
   "cell_type": "code",
   "execution_count": 24,
   "metadata": {},
   "outputs": [
    {
     "name": "stdout",
     "output_type": "stream",
     "text": [
      "0.999979020750832\n",
      "1.0000000003382359\n"
     ]
    },
    {
     "data": {
      "text/plain": [
       "1.0000000003382359"
      ]
     },
     "execution_count": 24,
     "metadata": {},
     "output_type": "execute_result"
    }
   ],
   "source": [
    "x = linspace(0, pi/2, 100)\n",
    "y = cos(x)\n",
    "print(trapezoid(y, x[1] - x[0]))\n",
    "\n",
    "x = linspace(0, pi/2, 101) # crashes on even numbers\n",
    "print(simpson(cos(x), x[1] - x[0]))\n",
    "simps(cos(x),x)"
   ]
  },
  {
   "cell_type": "markdown",
   "metadata": {},
   "source": [
    "$Result$ $9:$ The results above show the approximate integral of the function stated and the built-in simps function which gave the same value as the defined function in method"
   ]
  },
  {
   "cell_type": "code",
   "execution_count": 25,
   "metadata": {
    "scrolled": false
   },
   "outputs": [
    {
     "data": {
      "text/plain": [
       "<matplotlib.legend.Legend at 0x21accf3e5f8>"
      ]
     },
     "execution_count": 25,
     "metadata": {},
     "output_type": "execute_result"
    },
    {
     "data": {
      "image/png": "[encoded data removed]",
      "text/plain": [
       "<Figure size 432x288 with 1 Axes>"
      ]
     },
     "metadata": {
      "needs_background": "light"
     },
     "output_type": "display_data"
    }
   ],
   "source": [
    "# Same syntax as plot. The label is used in the legend.\n",
    "xlabel('step size $h$') # Note that we can include LaTeX-style maths within dollar signs.\n",
    "ylabel('absolute error $|\\epsilon|$')\n",
    "title('Errors in each approximation per step' ) # Include an appropriate string for a graph title here.\n",
    "loglog(logspace(1,7,7), trap_error, 'o-', label=\"Trapezium error\")\n",
    "loglog(logspace(1,7,7), simp_error, 'r-', label=\"Simpson error\")\n",
    "legend()"
   ]
  },
  {
   "cell_type": "markdown",
   "metadata": {},
   "source": [
    "$Figure$ $3:$ A graph illustrating the errors in each approximation method over 1e7 steps. The disparity increased from the start position up to about 1e5 steps then began to converge until they intersected at 1e7. "
   ]
  },
  {
   "cell_type": "code",
   "execution_count": 26,
   "metadata": {},
   "outputs": [
    {
     "name": "stdout",
     "output_type": "stream",
     "text": [
      "0.9984726134041151\n"
     ]
    },
    {
     "data": {
      "text/plain": [
       "(0.9999999999999999, 1.1102230246251564e-14)"
      ]
     },
     "execution_count": 26,
     "metadata": {},
     "output_type": "execute_result"
    }
   ],
   "source": [
    "print(Gaussian(cos,(0, pi/2)))\n",
    "quad(cos,0, pi/2)"
   ]
  },
  {
   "cell_type": "markdown",
   "metadata": {},
   "source": [
    "$Result$ $11:$ This code shows the results of Gaussian quadrature and quad [4]."
   ]
  },
  {
   "cell_type": "code",
   "execution_count": 27,
   "metadata": {},
   "outputs": [
    {
     "data": {
      "text/plain": [
       "<matplotlib.legend.Legend at 0x21accf223c8>"
      ]
     },
     "execution_count": 27,
     "metadata": {},
     "output_type": "execute_result"
    },
    {
     "data": {
      "image/png": "[encoded data removed]",
      "text/plain": [
       "<Figure size 432x288 with 2 Axes>"
      ]
     },
     "metadata": {
      "needs_background": "light"
     },
     "output_type": "display_data"
    }
   ],
   "source": [
    "t_total = 10\n",
    "dt = 0.1\n",
    "t = 0\n",
    "x = array((1., 0))\n",
    "v = derivative_harmonic(t, x)\n",
    "\n",
    "t_list = [t]       \n",
    "x_list = [x.copy()] \n",
    "v_list = [v.copy()]     \n",
    "\n",
    "for i in range(int(t_total/dt)):\n",
    "    t += dt\n",
    "    x = x+v*dt\n",
    "    v = derivative_harmonic(t, x)\n",
    "    t_list.append(t)\n",
    "    x_list.append(x.copy())\n",
    "    v_list.append(v.copy())\n",
    "\n",
    "t_list = array(t_list)\n",
    "x_list = array(x_list)\n",
    "\n",
    "plt.figure()\n",
    "plt.subplot(2, 1, 1)\n",
    "plt.plot(t_list, x_list[:,0], label=\"$x$\")\n",
    "plt.plot(t_list, x_list[:,1], label='$\\\\mathrm{d}x/\\\\mathrm{d}t$')\n",
    "plt.legend()\n",
    "plt.subplot(2, 1, 2)\n",
    "plt.plot(t_list, 0.5 * k * (x_list[:,0]**2), label=\"$V$\")\n",
    "plt.plot(t_list, 0.5 * m * (x_list[:,1]**2), label=\"$K$\")\n",
    "plt.plot(t_list,0.5 * k * (x_list[:,0]**2) + 0.5 * m * (x_list[:,1]**2) , label=\"$E$\")\n",
    "plt.legend()"
   ]
  },
  {
   "cell_type": "markdown",
   "metadata": {},
   "source": [
    "$Figure$ $4:$ The graph on top displays the change in x over time and its derivative with respect to t as a function of time.\n",
    "The graph below depicts the Euler approximation to calculate the potential (V), kinetic energy (K) and total energy (E). This has shown that there is an issue with using the Euler approximation in this approximation as energy is rising in the harmonic system and it is known that the energy of such a system must stay constant."
   ]
  },
  {
   "cell_type": "code",
   "execution_count": 28,
   "metadata": {},
   "outputs": [
    {
     "data": {
      "text/plain": [
       "<matplotlib.legend.Legend at 0x21ace1e3f60>"
      ]
     },
     "execution_count": 28,
     "metadata": {},
     "output_type": "execute_result"
    },
    {
     "data": {
      "image/png": "[encoded data removed]",
      "text/plain": [
       "<Figure size 432x288 with 2 Axes>"
      ]
     },
     "metadata": {
      "needs_background": "light"
     },
     "output_type": "display_data"
    }
   ],
   "source": [
    "t_total = 10\n",
    "dt = 0.1\n",
    "t = 0\n",
    "x = array((1., 0))\n",
    "v = derivative_harmonic(t, x)\n",
    "\n",
    "t_list = [t]       \n",
    "x_list = [x.copy()] \n",
    "v_list = [v.copy()]     \n",
    "\n",
    "for i in range(int(t_total/dt)):\n",
    "    t_int = t + (0.5 * dt) \n",
    "    x_int = x + (0.5 * v * dt)\n",
    "    v_int = derivative_harmonic(t_int, x_int)\n",
    "    t += dt\n",
    "    x += v_int*dt\n",
    "    v = derivative_harmonic(t, x)\n",
    "    t_list.append(t)\n",
    "    x_list.append(x.copy())\n",
    "    v_list.append(v.copy())\n",
    "\n",
    "t_list = array(t_list)\n",
    "x_list = array(x_list)\n",
    "plt.figure()\n",
    "plt.subplot(2, 1, 1)\n",
    "plt.plot(t_list, x_list[:,0], label=\"$x$\")\n",
    "plt.plot(t_list, x_list[:,1], label='$\\\\mathrm{d}x/\\\\mathrm{d}t$')\n",
    "plt.legend()\n",
    "plt.subplot(2, 1, 2)\n",
    "plt.plot(t_list, 0.5 * k * (x_list[:,0]**2), label=\"$V$\")\n",
    "plt.plot(t_list, 0.5 * m * (x_list[:,1]**2), label=\"$K$\")\n",
    "plt.plot(t_list,0.5 * k * (x_list[:,0]**2) + 0.5 * m * (x_list[:,1]**2) , label=\"$E$\")\n",
    "plt.legend()"
   ]
  },
  {
   "cell_type": "markdown",
   "metadata": {},
   "source": [
    "$Figure$ $5:$ This figure communicates the same graph as figure 3 but uses the second-order Runge-Kutta method. It displays a constant total energy level plus kinetic energy and potential alternating between maximum and minimum at the same time interval."
   ]
  },
  {
   "cell_type": "markdown",
   "metadata": {},
   "source": [
    "## Discussion"
   ]
  },
  {
   "cell_type": "markdown",
   "metadata": {},
   "source": [
    "The significance of this investigation is that depending on the users understanding of the problem they may use the wrong approach leading to an incorrect solution or squander time.\n",
    "\n",
    "As shown in the first result if the user searching for a specific string within a group, it may be easier to convert it inot a set in order to reduce time and resources used.\n",
    "\n",
    "On another note, if precison is needed it is best to use the sophisticated algorithms or the built-in functions to make calculations as they have reduced error as shown in figure 1, 2 and 3. Moreover, the approximation is relient on the initial guess and depending on the method this can greatly change the amount of steps and resources used as shown in table 1. It may even crash if the guess causes an incalculable solutions."
   ]
  },
  {
   "cell_type": "markdown",
   "metadata": {},
   "source": [
    "## Conclusion"
   ]
  },
  {
   "cell_type": "markdown",
   "metadata": {},
   "source": [
    "To conclude, this investigation shows that it is important to have good understanding of the problem that the user wants to solve, in order to make an informed decision on approach.\n",
    "\n",
    "Further work would have to done in investigating the time of functions and the underlying algorithms of the built-in functions."
   ]
  },
  {
   "cell_type": "markdown",
   "metadata": {},
   "source": [
    "## References"
   ]
  },
  {
   "cell_type": "markdown",
   "metadata": {},
   "source": [
    "1.) Stack Overflow. (2011). Measure time elapsed in Python?. [online] Available at: https://stackoverflow.com/questions/7370801/measure-time-elapsed-in-python [Accessed 15 May 2019].\n",
    "\n",
    "2.) Docs.python.org. (2018). 15. Floating Point Arithmetic: Issues and Limitations — Python 3.7.3 documentation. [online] Available at: https://docs.python.org/3.7/tutorial/floatingpoint.html [Accessed 15 May 2019].\n",
    "\n",
    "3.) Docs.scipy.org. (2017). scipy.integrate.simps — SciPy v1.3.0 Reference Guide. [online] Available at: https://docs.scipy.org/doc/scipy/reference/generated/scipy.integrate.simps.html [Accessed 16 May 2019].\n",
    "\n",
    "4.) Docs.scipy.org. (2017). scipy.integrate.quad — SciPy v1.3.0 Reference Guide. [online] Available at: https://docs.scipy.org/doc/scipy/reference/generated/scipy.integrate.quad.html [Accessed 16 May 2019]."
   ]
  },
  {
   "cell_type": "code",
   "execution_count": 29,
   "metadata": {},
   "outputs": [
    {
     "name": "stdout",
     "output_type": "stream",
     "text": [
      "23\n",
      "## Analysing the efficacy of built-in Python functions and constructed algorithms within various mathematical cases ==> 0\n",
      "## Introduction ==> 98\n",
      "## Methods ==> 526\n",
      "## Results ==> 407\n",
      "## Solving Roots of $f(x) = x^2 - 2$ with guesses ==> 361\n",
      "## Discussion ==> 142\n",
      "## Conclusion ==> 52\n",
      "## References ==> 76\n",
      "Total ==>  1609\n"
     ]
    }
   ],
   "source": [
    "import nbformat\n",
    "def word_count(notebook):\n",
    "    \"\"\"Prints the word count in Markdown cells of the file named notebook.\"\"\"\n",
    "    with open(notebook, 'r', encoding='utf-8') as f:\n",
    "        nb = nbformat.read(f, as_version=4)\n",
    "    word_count = 0\n",
    "    total_word_count = 0\n",
    "    for cell in nb['cells']:\n",
    "        if cell['cell_type'] == \"markdown\":\n",
    "            lines = cell['source'].split('\\n')\n",
    "            for line in lines:\n",
    "                if len(line) > 0 and line[0] == '#':\n",
    "                    print(word_count)\n",
    "                    total_word_count += word_count\n",
    "                    word_count = 0\n",
    "                    print(line.strip(), end=\" ==> \")\n",
    "                else:\n",
    "                    word_count += len(line.lstrip().split(' '))\n",
    "    print(word_count)\n",
    "    print(\"Total ==> \", total_word_count)\n",
    "word_count('C:\\\\Users\\\\CPier\\\\ap16178\\\\FinalProject.ipynb')"
   ]
  }
 ],
 "metadata": {
  "kernelspec": {
   "display_name": "Python 3",
   "language": "python",
   "name": "python3"
  },
  "language_info": {
   "codemirror_mode": {
    "name": "ipython",
    "version": 3
   },
   "file_extension": ".py",
   "mimetype": "text/x-python",
   "name": "python",
   "nbconvert_exporter": "python",
   "pygments_lexer": "ipython3",
   "version": "3.7.1"
  }
 },
 "nbformat": 4,
 "nbformat_minor": 2
}
